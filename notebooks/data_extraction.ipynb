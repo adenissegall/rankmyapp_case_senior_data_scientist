{
 "cells": [
  {
   "cell_type": "code",
   "execution_count": 80,
   "id": "1c2942d1",
   "metadata": {},
   "outputs": [
    {
     "data": {
      "text/plain": [
       "True"
      ]
     },
     "execution_count": 80,
     "metadata": {},
     "output_type": "execute_result"
    }
   ],
   "source": [
    "#IMPORTS\n",
    "from sqlalchemy import create_engine\n",
    "import pandas as pd\n",
    "from dotenv import load_dotenv\n",
    "import os\n",
    "import matplotlib.pyplot as plt\n",
    "load_dotenv()"
   ]
  },
  {
   "cell_type": "code",
   "execution_count": 81,
   "id": "0d4af622",
   "metadata": {},
   "outputs": [],
   "source": [
    "#ENVS\n",
    "host=os.getenv(\"CASE_HOST\")\n",
    "user=os.getenv(\"CASE_USER\")\n",
    "password=os.getenv(\"CASE_PASSWORD\")\n",
    "database=os.getenv(\"CASE_DATABASE\")\n",
    "port=os.getenv(\"CASE_PORT\")"
   ]
  },
  {
   "cell_type": "code",
   "execution_count": 82,
   "id": "22771f88",
   "metadata": {},
   "outputs": [],
   "source": [
    "#GET DATA\n",
    "DATABASE_URL = f\"mysql+pymysql://{user}:{password}@{host}:{port}/{database}\"\n",
    "engine = create_engine(DATABASE_URL)\n",
    "query = '''\n",
    "select \n",
    "tb1.appId, \n",
    "tb1.date,\n",
    "tb1.mauReal as monthly_active_users,\n",
    "tb2.country,\n",
    "tb2.lang,\n",
    "tb2.predictionLoss,\n",
    "tb3.newinstalls,\n",
    "tb4.category,\n",
    "tb4.ratings as total_ratings,\n",
    "tb4.daily_ratings,\n",
    "tb4.reviews,\n",
    "tb4.daily_reviews, \n",
    "tb1.dauReal as daily_active_users_TARGET\n",
    "\n",
    "from daumau tb1\n",
    "\n",
    "left join desinstalacoes as tb2 \n",
    "    on tb1.appId = tb2.appId and tb1.date = tb2.date \n",
    "\n",
    "left join installs as tb3 \n",
    "    on tb1.appId = tb3.appId and tb1.date = tb3.date\n",
    "\n",
    "left join ratings_reviews as tb4 \n",
    "    on tb1.appId = tb4.appId and tb1.date = tb4.date;\n",
    "'''\n",
    "df = pd.read_sql(query, con=engine)\n"
   ]
  },
  {
   "cell_type": "code",
   "execution_count": 83,
   "id": "159a4dad",
   "metadata": {},
   "outputs": [
    {
     "data": {
      "text/html": [
       "<div>\n",
       "<style scoped>\n",
       "    .dataframe tbody tr th:only-of-type {\n",
       "        vertical-align: middle;\n",
       "    }\n",
       "\n",
       "    .dataframe tbody tr th {\n",
       "        vertical-align: top;\n",
       "    }\n",
       "\n",
       "    .dataframe thead th {\n",
       "        text-align: right;\n",
       "    }\n",
       "</style>\n",
       "<table border=\"1\" class=\"dataframe\">\n",
       "  <thead>\n",
       "    <tr style=\"text-align: right;\">\n",
       "      <th></th>\n",
       "      <th>appId</th>\n",
       "      <th>date</th>\n",
       "      <th>monthly_active_users</th>\n",
       "      <th>country</th>\n",
       "      <th>lang</th>\n",
       "      <th>predictionLoss</th>\n",
       "      <th>newinstalls</th>\n",
       "      <th>category</th>\n",
       "      <th>total_ratings</th>\n",
       "      <th>daily_ratings</th>\n",
       "      <th>reviews</th>\n",
       "      <th>daily_reviews</th>\n",
       "      <th>daily_active_users_TARGET</th>\n",
       "    </tr>\n",
       "  </thead>\n",
       "  <tbody>\n",
       "    <tr>\n",
       "      <th>0</th>\n",
       "      <td>com.app.33540</td>\n",
       "      <td>2024-01-01</td>\n",
       "      <td>3643110.0</td>\n",
       "      <td>br</td>\n",
       "      <td>pt</td>\n",
       "      <td>8170.0</td>\n",
       "      <td>8068.0</td>\n",
       "      <td>FINANCE</td>\n",
       "      <td>223848.0</td>\n",
       "      <td>297.0</td>\n",
       "      <td>82172.0</td>\n",
       "      <td>46.0</td>\n",
       "      <td>393961.0</td>\n",
       "    </tr>\n",
       "    <tr>\n",
       "      <th>1</th>\n",
       "      <td>com.app.31679</td>\n",
       "      <td>2024-01-01</td>\n",
       "      <td>1349262.0</td>\n",
       "      <td>br</td>\n",
       "      <td>pt</td>\n",
       "      <td>4287.0</td>\n",
       "      <td>2160.0</td>\n",
       "      <td>FINANCE</td>\n",
       "      <td>277813.0</td>\n",
       "      <td>132.0</td>\n",
       "      <td>139907.0</td>\n",
       "      <td>19.0</td>\n",
       "      <td>157532.0</td>\n",
       "    </tr>\n",
       "    <tr>\n",
       "      <th>2</th>\n",
       "      <td>com.app.77385</td>\n",
       "      <td>2024-01-01</td>\n",
       "      <td>1934660.0</td>\n",
       "      <td>br</td>\n",
       "      <td>pt</td>\n",
       "      <td>4497.0</td>\n",
       "      <td>3136.0</td>\n",
       "      <td>FINANCE</td>\n",
       "      <td>197329.0</td>\n",
       "      <td>187.0</td>\n",
       "      <td>79637.0</td>\n",
       "      <td>25.0</td>\n",
       "      <td>239768.0</td>\n",
       "    </tr>\n",
       "    <tr>\n",
       "      <th>3</th>\n",
       "      <td>com.app.41189</td>\n",
       "      <td>2024-01-01</td>\n",
       "      <td>19039746.0</td>\n",
       "      <td>br</td>\n",
       "      <td>pt</td>\n",
       "      <td>45759.0</td>\n",
       "      <td>13830.0</td>\n",
       "      <td>FINANCE</td>\n",
       "      <td>3499378.0</td>\n",
       "      <td>766.0</td>\n",
       "      <td>952285.0</td>\n",
       "      <td>171.0</td>\n",
       "      <td>4954347.0</td>\n",
       "    </tr>\n",
       "    <tr>\n",
       "      <th>4</th>\n",
       "      <td>com.app.71740</td>\n",
       "      <td>2024-01-01</td>\n",
       "      <td>34421.0</td>\n",
       "      <td>br</td>\n",
       "      <td>pt</td>\n",
       "      <td>1463.0</td>\n",
       "      <td>100.0</td>\n",
       "      <td>FINANCE</td>\n",
       "      <td>8327.0</td>\n",
       "      <td>1.0</td>\n",
       "      <td>4351.0</td>\n",
       "      <td>1.0</td>\n",
       "      <td>2809.0</td>\n",
       "    </tr>\n",
       "  </tbody>\n",
       "</table>\n",
       "</div>"
      ],
      "text/plain": [
       "           appId        date  monthly_active_users country lang  \\\n",
       "0  com.app.33540  2024-01-01             3643110.0      br   pt   \n",
       "1  com.app.31679  2024-01-01             1349262.0      br   pt   \n",
       "2  com.app.77385  2024-01-01             1934660.0      br   pt   \n",
       "3  com.app.41189  2024-01-01            19039746.0      br   pt   \n",
       "4  com.app.71740  2024-01-01               34421.0      br   pt   \n",
       "\n",
       "   predictionLoss  newinstalls category  total_ratings  daily_ratings  \\\n",
       "0          8170.0       8068.0  FINANCE       223848.0          297.0   \n",
       "1          4287.0       2160.0  FINANCE       277813.0          132.0   \n",
       "2          4497.0       3136.0  FINANCE       197329.0          187.0   \n",
       "3         45759.0      13830.0  FINANCE      3499378.0          766.0   \n",
       "4          1463.0        100.0  FINANCE         8327.0            1.0   \n",
       "\n",
       "    reviews  daily_reviews  daily_active_users_TARGET  \n",
       "0   82172.0           46.0                   393961.0  \n",
       "1  139907.0           19.0                   157532.0  \n",
       "2   79637.0           25.0                   239768.0  \n",
       "3  952285.0          171.0                  4954347.0  \n",
       "4    4351.0            1.0                     2809.0  "
      ]
     },
     "execution_count": 83,
     "metadata": {},
     "output_type": "execute_result"
    }
   ],
   "source": [
    "df.head()"
   ]
  },
  {
   "cell_type": "code",
   "execution_count": 84,
   "id": "5d27b698",
   "metadata": {},
   "outputs": [
    {
     "data": {
      "text/plain": [
       "(41437, 13)"
      ]
     },
     "execution_count": 84,
     "metadata": {},
     "output_type": "execute_result"
    }
   ],
   "source": [
    "df.shape"
   ]
  },
  {
   "cell_type": "markdown",
   "id": "79b0d0c7",
   "metadata": {},
   "source": [
    "## Duplicados e valores ausentes"
   ]
  },
  {
   "cell_type": "markdown",
   "id": "1cdd0178",
   "metadata": {},
   "source": [
    "Duplicados\n"
   ]
  },
  {
   "cell_type": "code",
   "execution_count": 86,
   "id": "8bf4a8c7",
   "metadata": {},
   "outputs": [
    {
     "name": "stdout",
     "output_type": "stream",
     "text": [
      "O numero de linhas duplicadas é: 291\n"
     ]
    }
   ],
   "source": [
    "numero_duplicadas = df.duplicated().sum()\n",
    "print('O numero de linhas duplicadas é:', numero_duplicadas)"
   ]
  },
  {
   "cell_type": "markdown",
   "id": "9c039fcf",
   "metadata": {},
   "source": [
    "Ausentes"
   ]
  },
  {
   "cell_type": "code",
   "execution_count": 87,
   "id": "c7462e05",
   "metadata": {},
   "outputs": [
    {
     "name": "stdout",
     "output_type": "stream",
     "text": [
      "O numero de linhas onde TODOS os valores estão nulos é: 0\n",
      "EXEMPLOS:\n",
      " \n",
      " \n",
      "O numero de linhas onde PELO MENOS ALGUM valor está nulo é: 2990\n",
      "EXEMPLOS:\n"
     ]
    },
    {
     "data": {
      "text/html": [
       "<div>\n",
       "<style scoped>\n",
       "    .dataframe tbody tr th:only-of-type {\n",
       "        vertical-align: middle;\n",
       "    }\n",
       "\n",
       "    .dataframe tbody tr th {\n",
       "        vertical-align: top;\n",
       "    }\n",
       "\n",
       "    .dataframe thead th {\n",
       "        text-align: right;\n",
       "    }\n",
       "</style>\n",
       "<table border=\"1\" class=\"dataframe\">\n",
       "  <thead>\n",
       "    <tr style=\"text-align: right;\">\n",
       "      <th></th>\n",
       "      <th>appId</th>\n",
       "      <th>date</th>\n",
       "      <th>monthly_active_users</th>\n",
       "      <th>country</th>\n",
       "      <th>lang</th>\n",
       "      <th>predictionLoss</th>\n",
       "      <th>newinstalls</th>\n",
       "      <th>category</th>\n",
       "      <th>total_ratings</th>\n",
       "      <th>daily_ratings</th>\n",
       "      <th>reviews</th>\n",
       "      <th>daily_reviews</th>\n",
       "      <th>daily_active_users_TARGET</th>\n",
       "    </tr>\n",
       "  </thead>\n",
       "  <tbody>\n",
       "    <tr>\n",
       "      <th>29822</th>\n",
       "      <td>None</td>\n",
       "      <td>2044-07-05</td>\n",
       "      <td>19685101.0</td>\n",
       "      <td>None</td>\n",
       "      <td>None</td>\n",
       "      <td>NaN</td>\n",
       "      <td>NaN</td>\n",
       "      <td>None</td>\n",
       "      <td>NaN</td>\n",
       "      <td>NaN</td>\n",
       "      <td>NaN</td>\n",
       "      <td>NaN</td>\n",
       "      <td>8227357.0</td>\n",
       "    </tr>\n",
       "    <tr>\n",
       "      <th>11888</th>\n",
       "      <td>com.app.26790</td>\n",
       "      <td>2024-08-10</td>\n",
       "      <td>29431.0</td>\n",
       "      <td>br</td>\n",
       "      <td>pt</td>\n",
       "      <td>1394.0</td>\n",
       "      <td>NaN</td>\n",
       "      <td>None</td>\n",
       "      <td>NaN</td>\n",
       "      <td>NaN</td>\n",
       "      <td>NaN</td>\n",
       "      <td>NaN</td>\n",
       "      <td>1272.0</td>\n",
       "    </tr>\n",
       "    <tr>\n",
       "      <th>26033</th>\n",
       "      <td>com.app.60027</td>\n",
       "      <td>2024-02-25</td>\n",
       "      <td>1117352.0</td>\n",
       "      <td>br</td>\n",
       "      <td>pt</td>\n",
       "      <td>1323.0</td>\n",
       "      <td>NaN</td>\n",
       "      <td>None</td>\n",
       "      <td>NaN</td>\n",
       "      <td>NaN</td>\n",
       "      <td>NaN</td>\n",
       "      <td>NaN</td>\n",
       "      <td>1174.0</td>\n",
       "    </tr>\n",
       "    <tr>\n",
       "      <th>11306</th>\n",
       "      <td>com.app.44541</td>\n",
       "      <td>2024-06-03</td>\n",
       "      <td>18522.0</td>\n",
       "      <td>br</td>\n",
       "      <td>pt</td>\n",
       "      <td>1768.0</td>\n",
       "      <td>NaN</td>\n",
       "      <td>None</td>\n",
       "      <td>NaN</td>\n",
       "      <td>NaN</td>\n",
       "      <td>NaN</td>\n",
       "      <td>NaN</td>\n",
       "      <td>886.0</td>\n",
       "    </tr>\n",
       "    <tr>\n",
       "      <th>40915</th>\n",
       "      <td>None</td>\n",
       "      <td>2220-07-22</td>\n",
       "      <td>123719.0</td>\n",
       "      <td>None</td>\n",
       "      <td>None</td>\n",
       "      <td>NaN</td>\n",
       "      <td>NaN</td>\n",
       "      <td>None</td>\n",
       "      <td>NaN</td>\n",
       "      <td>NaN</td>\n",
       "      <td>NaN</td>\n",
       "      <td>NaN</td>\n",
       "      <td>11641.0</td>\n",
       "    </tr>\n",
       "    <tr>\n",
       "      <th>20922</th>\n",
       "      <td>com.app.98438</td>\n",
       "      <td>2024-03-26</td>\n",
       "      <td>97819.0</td>\n",
       "      <td>br</td>\n",
       "      <td>pt</td>\n",
       "      <td>1777.0</td>\n",
       "      <td>NaN</td>\n",
       "      <td>None</td>\n",
       "      <td>NaN</td>\n",
       "      <td>NaN</td>\n",
       "      <td>NaN</td>\n",
       "      <td>NaN</td>\n",
       "      <td>10694.0</td>\n",
       "    </tr>\n",
       "    <tr>\n",
       "      <th>21140</th>\n",
       "      <td>com.app.19637</td>\n",
       "      <td>2024-06-08</td>\n",
       "      <td>16132.0</td>\n",
       "      <td>None</td>\n",
       "      <td>None</td>\n",
       "      <td>NaN</td>\n",
       "      <td>NaN</td>\n",
       "      <td>None</td>\n",
       "      <td>NaN</td>\n",
       "      <td>NaN</td>\n",
       "      <td>NaN</td>\n",
       "      <td>NaN</td>\n",
       "      <td>1803.0</td>\n",
       "    </tr>\n",
       "    <tr>\n",
       "      <th>10286</th>\n",
       "      <td>com.app.88509</td>\n",
       "      <td>2024-06-17</td>\n",
       "      <td>24326347.0</td>\n",
       "      <td>br</td>\n",
       "      <td>pt</td>\n",
       "      <td>28041.0</td>\n",
       "      <td>NaN</td>\n",
       "      <td>OTHERS</td>\n",
       "      <td>1014029.0</td>\n",
       "      <td>377.0</td>\n",
       "      <td>521824.0</td>\n",
       "      <td>152.0</td>\n",
       "      <td>4289861.0</td>\n",
       "    </tr>\n",
       "    <tr>\n",
       "      <th>32046</th>\n",
       "      <td>com.app.26790</td>\n",
       "      <td>2024-03-22</td>\n",
       "      <td>65042.0</td>\n",
       "      <td>br</td>\n",
       "      <td>pt</td>\n",
       "      <td>1777.0</td>\n",
       "      <td>NaN</td>\n",
       "      <td>None</td>\n",
       "      <td>NaN</td>\n",
       "      <td>NaN</td>\n",
       "      <td>NaN</td>\n",
       "      <td>NaN</td>\n",
       "      <td>2978.0</td>\n",
       "    </tr>\n",
       "    <tr>\n",
       "      <th>19350</th>\n",
       "      <td>com.app.98438</td>\n",
       "      <td>2024-04-09</td>\n",
       "      <td>98472.0</td>\n",
       "      <td>br</td>\n",
       "      <td>pt</td>\n",
       "      <td>1777.0</td>\n",
       "      <td>NaN</td>\n",
       "      <td>None</td>\n",
       "      <td>NaN</td>\n",
       "      <td>NaN</td>\n",
       "      <td>NaN</td>\n",
       "      <td>NaN</td>\n",
       "      <td>13876.0</td>\n",
       "    </tr>\n",
       "  </tbody>\n",
       "</table>\n",
       "</div>"
      ],
      "text/plain": [
       "               appId        date  monthly_active_users country  lang  \\\n",
       "29822           None  2044-07-05            19685101.0    None  None   \n",
       "11888  com.app.26790  2024-08-10               29431.0      br    pt   \n",
       "26033  com.app.60027  2024-02-25             1117352.0      br    pt   \n",
       "11306  com.app.44541  2024-06-03               18522.0      br    pt   \n",
       "40915           None  2220-07-22              123719.0    None  None   \n",
       "20922  com.app.98438  2024-03-26               97819.0      br    pt   \n",
       "21140  com.app.19637  2024-06-08               16132.0    None  None   \n",
       "10286  com.app.88509  2024-06-17            24326347.0      br    pt   \n",
       "32046  com.app.26790  2024-03-22               65042.0      br    pt   \n",
       "19350  com.app.98438  2024-04-09               98472.0      br    pt   \n",
       "\n",
       "       predictionLoss  newinstalls category  total_ratings  daily_ratings  \\\n",
       "29822             NaN          NaN     None            NaN            NaN   \n",
       "11888          1394.0          NaN     None            NaN            NaN   \n",
       "26033          1323.0          NaN     None            NaN            NaN   \n",
       "11306          1768.0          NaN     None            NaN            NaN   \n",
       "40915             NaN          NaN     None            NaN            NaN   \n",
       "20922          1777.0          NaN     None            NaN            NaN   \n",
       "21140             NaN          NaN     None            NaN            NaN   \n",
       "10286         28041.0          NaN   OTHERS      1014029.0          377.0   \n",
       "32046          1777.0          NaN     None            NaN            NaN   \n",
       "19350          1777.0          NaN     None            NaN            NaN   \n",
       "\n",
       "        reviews  daily_reviews  daily_active_users_TARGET  \n",
       "29822       NaN            NaN                  8227357.0  \n",
       "11888       NaN            NaN                     1272.0  \n",
       "26033       NaN            NaN                     1174.0  \n",
       "11306       NaN            NaN                      886.0  \n",
       "40915       NaN            NaN                    11641.0  \n",
       "20922       NaN            NaN                    10694.0  \n",
       "21140       NaN            NaN                     1803.0  \n",
       "10286  521824.0          152.0                  4289861.0  \n",
       "32046       NaN            NaN                     2978.0  \n",
       "19350       NaN            NaN                    13876.0  "
      ]
     },
     "execution_count": 87,
     "metadata": {},
     "output_type": "execute_result"
    }
   ],
   "source": [
    "qtd_alguma_linha_com_nulo = df.isnull().any(axis=1).sum()\n",
    "qtd_todos_nulos = df.isnull().all(axis=1).sum() \n",
    "\n",
    "ex_alguma_linha_com_nulo = df[df.isnull().any(axis=1)]\n",
    "ex_todos_nulos = df[df.isnull().all(axis=1)]\n",
    "\n",
    "print('O numero de linhas onde TODOS os valores estão nulos é:', qtd_todos_nulos)\n",
    "print('EXEMPLOS:')\n",
    "ex_todos_nulos\n",
    "print(' ')\n",
    "print(' ')\n",
    "print('O numero de linhas onde PELO MENOS ALGUM valor está nulo é:', qtd_alguma_linha_com_nulo)\n",
    "print('EXEMPLOS:')\n",
    "ex_alguma_linha_com_nulo.sample(10)"
   ]
  },
  {
   "cell_type": "code",
   "execution_count": 88,
   "id": "c6f56e2d",
   "metadata": {},
   "outputs": [
    {
     "data": {
      "text/plain": [
       "41437"
      ]
     },
     "execution_count": 88,
     "metadata": {},
     "output_type": "execute_result"
    }
   ],
   "source": [
    "df.shape[0]"
   ]
  },
  {
   "cell_type": "code",
   "execution_count": 89,
   "id": "3e0af78d",
   "metadata": {},
   "outputs": [
    {
     "name": "stdout",
     "output_type": "stream",
     "text": [
      "Percentual de linhas com algum valor ausente:  7 % \n"
     ]
    }
   ],
   "source": [
    "total_pct_missing = ((qtd_alguma_linha_com_nulo * 100) / df.shape[0])\n",
    "print('Percentual de linhas com algum valor ausente: ',  round(total_pct_missing),'% ') "
   ]
  },
  {
   "cell_type": "markdown",
   "id": "641f6856",
   "metadata": {},
   "source": [
    "- Até o momento, vimos que temos linhas duplicadas e linhas com valores ausentes <br><br>\n",
    "- O ideal é que nenhum dado seja apagado da base à priori. Precisamos compreender se a falta de valores e dados duplicados são um erro de processamento ou um comportamento esperado. <br><br>\n",
    "- No caso onde os dados estão duplicados em TODAS as colunas, (salvo os casos onde os apps seriam medidos mais de uma vez ao dia e nesse caso, deveria ter algo para diferenciar as linhas) em geral é correto remover pois de fato seria um erro de armazenamento. <br><br>\n",
    "- E no caso de dados ausentes, podemos usar abordagens como a imputação de valores utilizando medidas de tendência central (como média, mediana e moda) ou mesmo modelos de machine learning.<br><br>\n",
    "- Porém, para um modelo inicial E/OU caso a quantidade de amostras com valores ausentes seja baixa (menos de 10%), podemos removê-los visto que esta perda não terá uma influência considerável nos resultados do modelo.  "
   ]
  },
  {
   "cell_type": "code",
   "execution_count": 90,
   "id": "feb57c0a",
   "metadata": {},
   "outputs": [
    {
     "data": {
      "text/plain": [
       "(38159, 13)"
      ]
     },
     "execution_count": 90,
     "metadata": {},
     "output_type": "execute_result"
    }
   ],
   "source": [
    "df.drop_duplicates(inplace=True)\n",
    "df_limpo = df.dropna()\n",
    "df_limpo.shape"
   ]
  },
  {
   "cell_type": "markdown",
   "id": "8be5f165",
   "metadata": {},
   "source": [
    "## Verificando demais inconsistências"
   ]
  },
  {
   "cell_type": "code",
   "execution_count": null,
   "id": "f1e0ec9b",
   "metadata": {},
   "outputs": [
    {
     "data": {
      "text/html": [
       "<div>\n",
       "<style scoped>\n",
       "    .dataframe tbody tr th:only-of-type {\n",
       "        vertical-align: middle;\n",
       "    }\n",
       "\n",
       "    .dataframe tbody tr th {\n",
       "        vertical-align: top;\n",
       "    }\n",
       "\n",
       "    .dataframe thead th {\n",
       "        text-align: right;\n",
       "    }\n",
       "</style>\n",
       "<table border=\"1\" class=\"dataframe\">\n",
       "  <thead>\n",
       "    <tr style=\"text-align: right;\">\n",
       "      <th></th>\n",
       "      <th>appId</th>\n",
       "      <th>date</th>\n",
       "      <th>monthly_active_users</th>\n",
       "      <th>country</th>\n",
       "      <th>lang</th>\n",
       "      <th>predictionLoss</th>\n",
       "      <th>newinstalls</th>\n",
       "      <th>category</th>\n",
       "      <th>total_ratings</th>\n",
       "      <th>daily_ratings</th>\n",
       "      <th>reviews</th>\n",
       "      <th>daily_reviews</th>\n",
       "      <th>daily_active_users_TARGET</th>\n",
       "    </tr>\n",
       "  </thead>\n",
       "  <tbody>\n",
       "    <tr>\n",
       "      <th>0</th>\n",
       "      <td>com.app.33540</td>\n",
       "      <td>2024-01-01</td>\n",
       "      <td>3643110.0</td>\n",
       "      <td>br</td>\n",
       "      <td>pt</td>\n",
       "      <td>8170.0</td>\n",
       "      <td>8068.0</td>\n",
       "      <td>FINANCE</td>\n",
       "      <td>223848.0</td>\n",
       "      <td>297.0</td>\n",
       "      <td>82172.0</td>\n",
       "      <td>46.0</td>\n",
       "      <td>393961.0</td>\n",
       "    </tr>\n",
       "    <tr>\n",
       "      <th>1</th>\n",
       "      <td>com.app.31679</td>\n",
       "      <td>2024-01-01</td>\n",
       "      <td>1349262.0</td>\n",
       "      <td>br</td>\n",
       "      <td>pt</td>\n",
       "      <td>4287.0</td>\n",
       "      <td>2160.0</td>\n",
       "      <td>FINANCE</td>\n",
       "      <td>277813.0</td>\n",
       "      <td>132.0</td>\n",
       "      <td>139907.0</td>\n",
       "      <td>19.0</td>\n",
       "      <td>157532.0</td>\n",
       "    </tr>\n",
       "    <tr>\n",
       "      <th>2</th>\n",
       "      <td>com.app.77385</td>\n",
       "      <td>2024-01-01</td>\n",
       "      <td>1934660.0</td>\n",
       "      <td>br</td>\n",
       "      <td>pt</td>\n",
       "      <td>4497.0</td>\n",
       "      <td>3136.0</td>\n",
       "      <td>FINANCE</td>\n",
       "      <td>197329.0</td>\n",
       "      <td>187.0</td>\n",
       "      <td>79637.0</td>\n",
       "      <td>25.0</td>\n",
       "      <td>239768.0</td>\n",
       "    </tr>\n",
       "    <tr>\n",
       "      <th>3</th>\n",
       "      <td>com.app.41189</td>\n",
       "      <td>2024-01-01</td>\n",
       "      <td>19039746.0</td>\n",
       "      <td>br</td>\n",
       "      <td>pt</td>\n",
       "      <td>45759.0</td>\n",
       "      <td>13830.0</td>\n",
       "      <td>FINANCE</td>\n",
       "      <td>3499378.0</td>\n",
       "      <td>766.0</td>\n",
       "      <td>952285.0</td>\n",
       "      <td>171.0</td>\n",
       "      <td>4954347.0</td>\n",
       "    </tr>\n",
       "    <tr>\n",
       "      <th>4</th>\n",
       "      <td>com.app.71740</td>\n",
       "      <td>2024-01-01</td>\n",
       "      <td>34421.0</td>\n",
       "      <td>br</td>\n",
       "      <td>pt</td>\n",
       "      <td>1463.0</td>\n",
       "      <td>100.0</td>\n",
       "      <td>FINANCE</td>\n",
       "      <td>8327.0</td>\n",
       "      <td>1.0</td>\n",
       "      <td>4351.0</td>\n",
       "      <td>1.0</td>\n",
       "      <td>2809.0</td>\n",
       "    </tr>\n",
       "  </tbody>\n",
       "</table>\n",
       "</div>"
      ],
      "text/plain": [
       "           appId        date  monthly_active_users country lang  \\\n",
       "0  com.app.33540  2024-01-01             3643110.0      br   pt   \n",
       "1  com.app.31679  2024-01-01             1349262.0      br   pt   \n",
       "2  com.app.77385  2024-01-01             1934660.0      br   pt   \n",
       "3  com.app.41189  2024-01-01            19039746.0      br   pt   \n",
       "4  com.app.71740  2024-01-01               34421.0      br   pt   \n",
       "\n",
       "   predictionLoss  newinstalls category  total_ratings  daily_ratings  \\\n",
       "0          8170.0       8068.0  FINANCE       223848.0          297.0   \n",
       "1          4287.0       2160.0  FINANCE       277813.0          132.0   \n",
       "2          4497.0       3136.0  FINANCE       197329.0          187.0   \n",
       "3         45759.0      13830.0  FINANCE      3499378.0          766.0   \n",
       "4          1463.0        100.0  FINANCE         8327.0            1.0   \n",
       "\n",
       "    reviews  daily_reviews  daily_active_users_TARGET  \n",
       "0   82172.0           46.0                   393961.0  \n",
       "1  139907.0           19.0                   157532.0  \n",
       "2   79637.0           25.0                   239768.0  \n",
       "3  952285.0          171.0                  4954347.0  \n",
       "4    4351.0            1.0                     2809.0  "
      ]
     },
     "execution_count": 72,
     "metadata": {},
     "output_type": "execute_result"
    }
   ],
   "source": [
    "df_limpo.head()"
   ]
  },
  {
   "cell_type": "markdown",
   "id": "e3690b18",
   "metadata": {},
   "source": [
    "### Data"
   ]
  },
  {
   "cell_type": "code",
   "execution_count": null,
   "id": "8b38ad3f",
   "metadata": {},
   "outputs": [],
   "source": [
    "df_limpo.loc[:, 'date'] = pd.to_datetime(df_limpo['date'])"
   ]
  },
  {
   "cell_type": "markdown",
   "id": "a451ab06",
   "metadata": {},
   "source": [
    "Como não houve erro ao transformar a coluna de data para o formato data/hora, a principio todos estão no mesmo formato."
   ]
  },
  {
   "cell_type": "code",
   "execution_count": 74,
   "id": "45b41770",
   "metadata": {},
   "outputs": [
    {
     "data": {
      "text/html": [
       "<div>\n",
       "<style scoped>\n",
       "    .dataframe tbody tr th:only-of-type {\n",
       "        vertical-align: middle;\n",
       "    }\n",
       "\n",
       "    .dataframe tbody tr th {\n",
       "        vertical-align: top;\n",
       "    }\n",
       "\n",
       "    .dataframe thead th {\n",
       "        text-align: right;\n",
       "    }\n",
       "</style>\n",
       "<table border=\"1\" class=\"dataframe\">\n",
       "  <thead>\n",
       "    <tr style=\"text-align: right;\">\n",
       "      <th></th>\n",
       "      <th>appId</th>\n",
       "      <th>date</th>\n",
       "      <th>monthly_active_users</th>\n",
       "      <th>country</th>\n",
       "      <th>lang</th>\n",
       "      <th>predictionLoss</th>\n",
       "      <th>newinstalls</th>\n",
       "      <th>category</th>\n",
       "      <th>total_ratings</th>\n",
       "      <th>daily_ratings</th>\n",
       "      <th>reviews</th>\n",
       "      <th>daily_reviews</th>\n",
       "      <th>daily_active_users_TARGET</th>\n",
       "    </tr>\n",
       "  </thead>\n",
       "  <tbody>\n",
       "    <tr>\n",
       "      <th>0</th>\n",
       "      <td>com.app.33540</td>\n",
       "      <td>2024-01-01 00:00:00</td>\n",
       "      <td>3643110.0</td>\n",
       "      <td>br</td>\n",
       "      <td>pt</td>\n",
       "      <td>8170.0</td>\n",
       "      <td>8068.0</td>\n",
       "      <td>FINANCE</td>\n",
       "      <td>223848.0</td>\n",
       "      <td>297.0</td>\n",
       "      <td>82172.0</td>\n",
       "      <td>46.0</td>\n",
       "      <td>393961.0</td>\n",
       "    </tr>\n",
       "    <tr>\n",
       "      <th>102</th>\n",
       "      <td>com.app.85231</td>\n",
       "      <td>2024-01-01 00:00:00</td>\n",
       "      <td>73394.0</td>\n",
       "      <td>br</td>\n",
       "      <td>pt</td>\n",
       "      <td>1718.0</td>\n",
       "      <td>443.0</td>\n",
       "      <td>FINANCE</td>\n",
       "      <td>36486.0</td>\n",
       "      <td>0.0</td>\n",
       "      <td>21539.0</td>\n",
       "      <td>2.0</td>\n",
       "      <td>8888.0</td>\n",
       "    </tr>\n",
       "    <tr>\n",
       "      <th>101</th>\n",
       "      <td>com.app.14811</td>\n",
       "      <td>2024-01-01 00:00:00</td>\n",
       "      <td>107133.0</td>\n",
       "      <td>br</td>\n",
       "      <td>pt</td>\n",
       "      <td>1166.0</td>\n",
       "      <td>966.0</td>\n",
       "      <td>FINANCE</td>\n",
       "      <td>8363.0</td>\n",
       "      <td>0.0</td>\n",
       "      <td>4708.0</td>\n",
       "      <td>0.0</td>\n",
       "      <td>11466.0</td>\n",
       "    </tr>\n",
       "    <tr>\n",
       "      <th>100</th>\n",
       "      <td>com.app.78155</td>\n",
       "      <td>2024-01-01 00:00:00</td>\n",
       "      <td>78342.0</td>\n",
       "      <td>br</td>\n",
       "      <td>pt</td>\n",
       "      <td>1386.0</td>\n",
       "      <td>250.0</td>\n",
       "      <td>FINANCE</td>\n",
       "      <td>11125.0</td>\n",
       "      <td>1.0</td>\n",
       "      <td>6798.0</td>\n",
       "      <td>0.0</td>\n",
       "      <td>10171.0</td>\n",
       "    </tr>\n",
       "    <tr>\n",
       "      <th>99</th>\n",
       "      <td>com.app.85803</td>\n",
       "      <td>2024-01-01 00:00:00</td>\n",
       "      <td>61716.0</td>\n",
       "      <td>br</td>\n",
       "      <td>pt</td>\n",
       "      <td>885.0</td>\n",
       "      <td>115.0</td>\n",
       "      <td>BUSINESS</td>\n",
       "      <td>3146.0</td>\n",
       "      <td>1.0</td>\n",
       "      <td>851.0</td>\n",
       "      <td>2.0</td>\n",
       "      <td>2874.0</td>\n",
       "    </tr>\n",
       "  </tbody>\n",
       "</table>\n",
       "</div>"
      ],
      "text/plain": [
       "             appId                 date  monthly_active_users country lang  \\\n",
       "0    com.app.33540  2024-01-01 00:00:00             3643110.0      br   pt   \n",
       "102  com.app.85231  2024-01-01 00:00:00               73394.0      br   pt   \n",
       "101  com.app.14811  2024-01-01 00:00:00              107133.0      br   pt   \n",
       "100  com.app.78155  2024-01-01 00:00:00               78342.0      br   pt   \n",
       "99   com.app.85803  2024-01-01 00:00:00               61716.0      br   pt   \n",
       "\n",
       "     predictionLoss  newinstalls  category  total_ratings  daily_ratings  \\\n",
       "0            8170.0       8068.0   FINANCE       223848.0          297.0   \n",
       "102          1718.0        443.0   FINANCE        36486.0            0.0   \n",
       "101          1166.0        966.0   FINANCE         8363.0            0.0   \n",
       "100          1386.0        250.0   FINANCE        11125.0            1.0   \n",
       "99            885.0        115.0  BUSINESS         3146.0            1.0   \n",
       "\n",
       "     reviews  daily_reviews  daily_active_users_TARGET  \n",
       "0    82172.0           46.0                   393961.0  \n",
       "102  21539.0            2.0                     8888.0  \n",
       "101   4708.0            0.0                    11466.0  \n",
       "100   6798.0            0.0                    10171.0  \n",
       "99     851.0            2.0                     2874.0  "
      ]
     },
     "execution_count": 74,
     "metadata": {},
     "output_type": "execute_result"
    }
   ],
   "source": [
    "df_limpo.sort_values(by='date', ascending=True).head()"
   ]
  },
  {
   "cell_type": "markdown",
   "id": "d771704d",
   "metadata": {},
   "source": [
    "Nenhuma data muito mais antiga que as outras"
   ]
  },
  {
   "cell_type": "code",
   "execution_count": 75,
   "id": "589a5894",
   "metadata": {},
   "outputs": [
    {
     "data": {
      "text/html": [
       "<div>\n",
       "<style scoped>\n",
       "    .dataframe tbody tr th:only-of-type {\n",
       "        vertical-align: middle;\n",
       "    }\n",
       "\n",
       "    .dataframe tbody tr th {\n",
       "        vertical-align: top;\n",
       "    }\n",
       "\n",
       "    .dataframe thead th {\n",
       "        text-align: right;\n",
       "    }\n",
       "</style>\n",
       "<table border=\"1\" class=\"dataframe\">\n",
       "  <thead>\n",
       "    <tr style=\"text-align: right;\">\n",
       "      <th></th>\n",
       "      <th>appId</th>\n",
       "      <th>date</th>\n",
       "      <th>monthly_active_users</th>\n",
       "      <th>country</th>\n",
       "      <th>lang</th>\n",
       "      <th>predictionLoss</th>\n",
       "      <th>newinstalls</th>\n",
       "      <th>category</th>\n",
       "      <th>total_ratings</th>\n",
       "      <th>daily_ratings</th>\n",
       "      <th>reviews</th>\n",
       "      <th>daily_reviews</th>\n",
       "      <th>daily_active_users_TARGET</th>\n",
       "    </tr>\n",
       "  </thead>\n",
       "  <tbody>\n",
       "    <tr>\n",
       "      <th>21361</th>\n",
       "      <td>com.app.39058</td>\n",
       "      <td>2024-09-30 00:00:00</td>\n",
       "      <td>117412.0</td>\n",
       "      <td>br</td>\n",
       "      <td>pt</td>\n",
       "      <td>1837.0</td>\n",
       "      <td>278.0</td>\n",
       "      <td>FINANCE</td>\n",
       "      <td>2595.0</td>\n",
       "      <td>8.0</td>\n",
       "      <td>1203.0</td>\n",
       "      <td>4.0</td>\n",
       "      <td>16980.0</td>\n",
       "    </tr>\n",
       "    <tr>\n",
       "      <th>38745</th>\n",
       "      <td>com.app.61743</td>\n",
       "      <td>2024-09-30 00:00:00</td>\n",
       "      <td>435912.0</td>\n",
       "      <td>br</td>\n",
       "      <td>pt</td>\n",
       "      <td>4852.0</td>\n",
       "      <td>893.0</td>\n",
       "      <td>SHOPPING</td>\n",
       "      <td>222322.0</td>\n",
       "      <td>69.0</td>\n",
       "      <td>49241.0</td>\n",
       "      <td>8.0</td>\n",
       "      <td>54112.0</td>\n",
       "    </tr>\n",
       "    <tr>\n",
       "      <th>17444</th>\n",
       "      <td>com.app.47280</td>\n",
       "      <td>2024-09-30 00:00:00</td>\n",
       "      <td>22010852.0</td>\n",
       "      <td>br</td>\n",
       "      <td>pt</td>\n",
       "      <td>68278.0</td>\n",
       "      <td>15607.0</td>\n",
       "      <td>FINANCE</td>\n",
       "      <td>6861979.0</td>\n",
       "      <td>3091.0</td>\n",
       "      <td>1491128.0</td>\n",
       "      <td>118.0</td>\n",
       "      <td>9592215.0</td>\n",
       "    </tr>\n",
       "    <tr>\n",
       "      <th>28023</th>\n",
       "      <td>com.app.78794</td>\n",
       "      <td>2024-09-30 00:00:00</td>\n",
       "      <td>23935675.0</td>\n",
       "      <td>br</td>\n",
       "      <td>pt</td>\n",
       "      <td>121813.0</td>\n",
       "      <td>59608.0</td>\n",
       "      <td>FINANCE</td>\n",
       "      <td>2243615.0</td>\n",
       "      <td>210.0</td>\n",
       "      <td>1012254.0</td>\n",
       "      <td>96.0</td>\n",
       "      <td>7895595.0</td>\n",
       "    </tr>\n",
       "    <tr>\n",
       "      <th>38128</th>\n",
       "      <td>com.app.88484</td>\n",
       "      <td>2024-09-30 00:00:00</td>\n",
       "      <td>11818043.0</td>\n",
       "      <td>br</td>\n",
       "      <td>pt</td>\n",
       "      <td>71271.0</td>\n",
       "      <td>22938.0</td>\n",
       "      <td>SHOPPING</td>\n",
       "      <td>2023648.0</td>\n",
       "      <td>357.0</td>\n",
       "      <td>698826.0</td>\n",
       "      <td>45.0</td>\n",
       "      <td>2400838.0</td>\n",
       "    </tr>\n",
       "  </tbody>\n",
       "</table>\n",
       "</div>"
      ],
      "text/plain": [
       "               appId                 date  monthly_active_users country lang  \\\n",
       "21361  com.app.39058  2024-09-30 00:00:00              117412.0      br   pt   \n",
       "38745  com.app.61743  2024-09-30 00:00:00              435912.0      br   pt   \n",
       "17444  com.app.47280  2024-09-30 00:00:00            22010852.0      br   pt   \n",
       "28023  com.app.78794  2024-09-30 00:00:00            23935675.0      br   pt   \n",
       "38128  com.app.88484  2024-09-30 00:00:00            11818043.0      br   pt   \n",
       "\n",
       "       predictionLoss  newinstalls  category  total_ratings  daily_ratings  \\\n",
       "21361          1837.0        278.0   FINANCE         2595.0            8.0   \n",
       "38745          4852.0        893.0  SHOPPING       222322.0           69.0   \n",
       "17444         68278.0      15607.0   FINANCE      6861979.0         3091.0   \n",
       "28023        121813.0      59608.0   FINANCE      2243615.0          210.0   \n",
       "38128         71271.0      22938.0  SHOPPING      2023648.0          357.0   \n",
       "\n",
       "         reviews  daily_reviews  daily_active_users_TARGET  \n",
       "21361     1203.0            4.0                    16980.0  \n",
       "38745    49241.0            8.0                    54112.0  \n",
       "17444  1491128.0          118.0                  9592215.0  \n",
       "28023  1012254.0           96.0                  7895595.0  \n",
       "38128   698826.0           45.0                  2400838.0  "
      ]
     },
     "execution_count": 75,
     "metadata": {},
     "output_type": "execute_result"
    }
   ],
   "source": [
    "df_limpo.sort_values(by='date', ascending=False).head()"
   ]
  },
  {
   "cell_type": "markdown",
   "id": "fd9853e2",
   "metadata": {},
   "source": [
    "Nenhuma data muito futura às outras"
   ]
  },
  {
   "cell_type": "markdown",
   "id": "2b4102a8",
   "metadata": {},
   "source": [
    "### monthly_active_users"
   ]
  },
  {
   "cell_type": "code",
   "execution_count": 97,
   "id": "c4b22ff9",
   "metadata": {},
   "outputs": [
    {
     "data": {
      "text/html": [
       "<div>\n",
       "<style scoped>\n",
       "    .dataframe tbody tr th:only-of-type {\n",
       "        vertical-align: middle;\n",
       "    }\n",
       "\n",
       "    .dataframe tbody tr th {\n",
       "        vertical-align: top;\n",
       "    }\n",
       "\n",
       "    .dataframe thead th {\n",
       "        text-align: right;\n",
       "    }\n",
       "</style>\n",
       "<table border=\"1\" class=\"dataframe\">\n",
       "  <thead>\n",
       "    <tr style=\"text-align: right;\">\n",
       "      <th></th>\n",
       "      <th>appId</th>\n",
       "      <th>date</th>\n",
       "      <th>monthly_active_users</th>\n",
       "    </tr>\n",
       "  </thead>\n",
       "  <tbody>\n",
       "    <tr>\n",
       "      <th>85</th>\n",
       "      <td>com.app.23305</td>\n",
       "      <td>2024-01-01</td>\n",
       "      <td>29605840.0</td>\n",
       "    </tr>\n",
       "    <tr>\n",
       "      <th>1858</th>\n",
       "      <td>com.app.23305</td>\n",
       "      <td>2024-01-02</td>\n",
       "      <td>29563763.0</td>\n",
       "    </tr>\n",
       "    <tr>\n",
       "      <th>2093</th>\n",
       "      <td>com.app.23305</td>\n",
       "      <td>2024-01-03</td>\n",
       "      <td>29485494.0</td>\n",
       "    </tr>\n",
       "    <tr>\n",
       "      <th>201</th>\n",
       "      <td>com.app.23305</td>\n",
       "      <td>2024-01-04</td>\n",
       "      <td>29379600.0</td>\n",
       "    </tr>\n",
       "    <tr>\n",
       "      <th>2071</th>\n",
       "      <td>com.app.23305</td>\n",
       "      <td>2024-01-05</td>\n",
       "      <td>29311213.0</td>\n",
       "    </tr>\n",
       "  </tbody>\n",
       "</table>\n",
       "</div>"
      ],
      "text/plain": [
       "              appId        date  monthly_active_users\n",
       "85    com.app.23305  2024-01-01            29605840.0\n",
       "1858  com.app.23305  2024-01-02            29563763.0\n",
       "2093  com.app.23305  2024-01-03            29485494.0\n",
       "201   com.app.23305  2024-01-04            29379600.0\n",
       "2071  com.app.23305  2024-01-05            29311213.0"
      ]
     },
     "execution_count": 97,
     "metadata": {},
     "output_type": "execute_result"
    }
   ],
   "source": [
    "df_limpo[['appId', 'date', 'monthly_active_users']].sort_values(by='monthly_active_users', ascending=False).head()"
   ]
  },
  {
   "cell_type": "code",
   "execution_count": 98,
   "id": "e02ab055",
   "metadata": {},
   "outputs": [
    {
     "data": {
      "text/html": [
       "<div>\n",
       "<style scoped>\n",
       "    .dataframe tbody tr th:only-of-type {\n",
       "        vertical-align: middle;\n",
       "    }\n",
       "\n",
       "    .dataframe tbody tr th {\n",
       "        vertical-align: top;\n",
       "    }\n",
       "\n",
       "    .dataframe thead th {\n",
       "        text-align: right;\n",
       "    }\n",
       "</style>\n",
       "<table border=\"1\" class=\"dataframe\">\n",
       "  <thead>\n",
       "    <tr style=\"text-align: right;\">\n",
       "      <th></th>\n",
       "      <th>appId</th>\n",
       "      <th>date</th>\n",
       "      <th>monthly_active_users</th>\n",
       "    </tr>\n",
       "  </thead>\n",
       "  <tbody>\n",
       "    <tr>\n",
       "      <th>27008</th>\n",
       "      <td>com.app.96037</td>\n",
       "      <td>2024-04-15</td>\n",
       "      <td>766.0</td>\n",
       "    </tr>\n",
       "    <tr>\n",
       "      <th>1325</th>\n",
       "      <td>com.app.95733</td>\n",
       "      <td>2024-01-09</td>\n",
       "      <td>813.0</td>\n",
       "    </tr>\n",
       "    <tr>\n",
       "      <th>1674</th>\n",
       "      <td>com.app.95733</td>\n",
       "      <td>2024-01-10</td>\n",
       "      <td>877.0</td>\n",
       "    </tr>\n",
       "    <tr>\n",
       "      <th>552</th>\n",
       "      <td>com.app.95733</td>\n",
       "      <td>2024-01-11</td>\n",
       "      <td>1087.0</td>\n",
       "    </tr>\n",
       "    <tr>\n",
       "      <th>553</th>\n",
       "      <td>com.app.95733</td>\n",
       "      <td>2024-01-12</td>\n",
       "      <td>1249.0</td>\n",
       "    </tr>\n",
       "  </tbody>\n",
       "</table>\n",
       "</div>"
      ],
      "text/plain": [
       "               appId        date  monthly_active_users\n",
       "27008  com.app.96037  2024-04-15                 766.0\n",
       "1325   com.app.95733  2024-01-09                 813.0\n",
       "1674   com.app.95733  2024-01-10                 877.0\n",
       "552    com.app.95733  2024-01-11                1087.0\n",
       "553    com.app.95733  2024-01-12                1249.0"
      ]
     },
     "execution_count": 98,
     "metadata": {},
     "output_type": "execute_result"
    }
   ],
   "source": [
    "df_limpo[['appId', 'date', 'monthly_active_users']].sort_values(by='monthly_active_users', ascending=True).head()"
   ]
  },
  {
   "cell_type": "code",
   "execution_count": 91,
   "id": "ea826d5c",
   "metadata": {},
   "outputs": [
    {
     "data": {
      "text/plain": [
       "<Axes: >"
      ]
     },
     "execution_count": 91,
     "metadata": {},
     "output_type": "execute_result"
    },
    {
     "data": {
      "image/png": "[encoded data removed]",
      "text/plain": [
       "<Figure size 640x480 with 1 Axes>"
      ]
     },
     "metadata": {},
     "output_type": "display_data"
    }
   ],
   "source": [
    "df_limpo['monthly_active_users'].plot(kind='box')"
   ]
  },
  {
   "cell_type": "markdown",
   "id": "169e1f89",
   "metadata": {},
   "source": [
    "Aparentemente, nenhum dado que esteja extremamente isolado"
   ]
  },
  {
   "cell_type": "markdown",
   "id": "35f9fdff",
   "metadata": {},
   "source": [
    "### predictionLoss"
   ]
  },
  {
   "cell_type": "code",
   "execution_count": 101,
   "id": "9886bf06",
   "metadata": {},
   "outputs": [
    {
     "data": {
      "text/html": [
       "<div>\n",
       "<style scoped>\n",
       "    .dataframe tbody tr th:only-of-type {\n",
       "        vertical-align: middle;\n",
       "    }\n",
       "\n",
       "    .dataframe tbody tr th {\n",
       "        vertical-align: top;\n",
       "    }\n",
       "\n",
       "    .dataframe thead th {\n",
       "        text-align: right;\n",
       "    }\n",
       "</style>\n",
       "<table border=\"1\" class=\"dataframe\">\n",
       "  <thead>\n",
       "    <tr style=\"text-align: right;\">\n",
       "      <th></th>\n",
       "      <th>appId</th>\n",
       "      <th>date</th>\n",
       "      <th>predictionLoss</th>\n",
       "    </tr>\n",
       "  </thead>\n",
       "  <tbody>\n",
       "    <tr>\n",
       "      <th>33768</th>\n",
       "      <td>com.app.78794</td>\n",
       "      <td>2024-04-05</td>\n",
       "      <td>189683.0</td>\n",
       "    </tr>\n",
       "    <tr>\n",
       "      <th>22731</th>\n",
       "      <td>com.app.78794</td>\n",
       "      <td>2024-03-22</td>\n",
       "      <td>177069.0</td>\n",
       "    </tr>\n",
       "    <tr>\n",
       "      <th>18150</th>\n",
       "      <td>com.app.78794</td>\n",
       "      <td>2024-01-29</td>\n",
       "      <td>171682.0</td>\n",
       "    </tr>\n",
       "    <tr>\n",
       "      <th>18519</th>\n",
       "      <td>com.app.78794</td>\n",
       "      <td>2024-05-03</td>\n",
       "      <td>171174.0</td>\n",
       "    </tr>\n",
       "    <tr>\n",
       "      <th>23592</th>\n",
       "      <td>com.app.78794</td>\n",
       "      <td>2024-03-28</td>\n",
       "      <td>170588.0</td>\n",
       "    </tr>\n",
       "  </tbody>\n",
       "</table>\n",
       "</div>"
      ],
      "text/plain": [
       "               appId        date  predictionLoss\n",
       "33768  com.app.78794  2024-04-05        189683.0\n",
       "22731  com.app.78794  2024-03-22        177069.0\n",
       "18150  com.app.78794  2024-01-29        171682.0\n",
       "18519  com.app.78794  2024-05-03        171174.0\n",
       "23592  com.app.78794  2024-03-28        170588.0"
      ]
     },
     "execution_count": 101,
     "metadata": {},
     "output_type": "execute_result"
    }
   ],
   "source": [
    "df_limpo[['appId', 'date', 'predictionLoss']].sort_values(by='predictionLoss', ascending=False).head()"
   ]
  },
  {
   "cell_type": "code",
   "execution_count": 102,
   "id": "04482c5b",
   "metadata": {},
   "outputs": [
    {
     "data": {
      "text/html": [
       "<div>\n",
       "<style scoped>\n",
       "    .dataframe tbody tr th:only-of-type {\n",
       "        vertical-align: middle;\n",
       "    }\n",
       "\n",
       "    .dataframe tbody tr th {\n",
       "        vertical-align: top;\n",
       "    }\n",
       "\n",
       "    .dataframe thead th {\n",
       "        text-align: right;\n",
       "    }\n",
       "</style>\n",
       "<table border=\"1\" class=\"dataframe\">\n",
       "  <thead>\n",
       "    <tr style=\"text-align: right;\">\n",
       "      <th></th>\n",
       "      <th>appId</th>\n",
       "      <th>date</th>\n",
       "      <th>predictionLoss</th>\n",
       "    </tr>\n",
       "  </thead>\n",
       "  <tbody>\n",
       "    <tr>\n",
       "      <th>16959</th>\n",
       "      <td>com.app.66274</td>\n",
       "      <td>2024-02-10</td>\n",
       "      <td>455.0</td>\n",
       "    </tr>\n",
       "    <tr>\n",
       "      <th>5020</th>\n",
       "      <td>com.app.66274</td>\n",
       "      <td>2024-03-31</td>\n",
       "      <td>472.0</td>\n",
       "    </tr>\n",
       "    <tr>\n",
       "      <th>4752</th>\n",
       "      <td>com.app.66274</td>\n",
       "      <td>2024-01-21</td>\n",
       "      <td>487.0</td>\n",
       "    </tr>\n",
       "    <tr>\n",
       "      <th>35266</th>\n",
       "      <td>com.app.66274</td>\n",
       "      <td>2024-04-02</td>\n",
       "      <td>513.0</td>\n",
       "    </tr>\n",
       "    <tr>\n",
       "      <th>31469</th>\n",
       "      <td>com.app.66274</td>\n",
       "      <td>2024-04-01</td>\n",
       "      <td>514.0</td>\n",
       "    </tr>\n",
       "  </tbody>\n",
       "</table>\n",
       "</div>"
      ],
      "text/plain": [
       "               appId        date  predictionLoss\n",
       "16959  com.app.66274  2024-02-10           455.0\n",
       "5020   com.app.66274  2024-03-31           472.0\n",
       "4752   com.app.66274  2024-01-21           487.0\n",
       "35266  com.app.66274  2024-04-02           513.0\n",
       "31469  com.app.66274  2024-04-01           514.0"
      ]
     },
     "execution_count": 102,
     "metadata": {},
     "output_type": "execute_result"
    }
   ],
   "source": [
    "df_limpo[['appId', 'date', 'predictionLoss']].sort_values(by='predictionLoss', ascending=True).head()"
   ]
  },
  {
   "cell_type": "code",
   "execution_count": 103,
   "id": "b147f9c5",
   "metadata": {},
   "outputs": [
    {
     "data": {
      "text/plain": [
       "<Axes: >"
      ]
     },
     "execution_count": 103,
     "metadata": {},
     "output_type": "execute_result"
    },
    {
     "data": {
      "image/png": "[encoded data removed]",
      "text/plain": [
       "<Figure size 640x480 with 1 Axes>"
      ]
     },
     "metadata": {},
     "output_type": "display_data"
    }
   ],
   "source": [
    "df_limpo['predictionLoss'].plot(kind='box')"
   ]
  },
  {
   "cell_type": "markdown",
   "id": "d64ae514",
   "metadata": {},
   "source": [
    "Existem dados isolados, mas ainda sim, aparentemente normais."
   ]
  },
  {
   "cell_type": "markdown",
   "id": "5f4e29ef",
   "metadata": {},
   "source": [
    "### newinstalls"
   ]
  },
  {
   "cell_type": "code",
   "execution_count": 104,
   "id": "86999796",
   "metadata": {},
   "outputs": [
    {
     "data": {
      "text/html": [
       "<div>\n",
       "<style scoped>\n",
       "    .dataframe tbody tr th:only-of-type {\n",
       "        vertical-align: middle;\n",
       "    }\n",
       "\n",
       "    .dataframe tbody tr th {\n",
       "        vertical-align: top;\n",
       "    }\n",
       "\n",
       "    .dataframe thead th {\n",
       "        text-align: right;\n",
       "    }\n",
       "</style>\n",
       "<table border=\"1\" class=\"dataframe\">\n",
       "  <thead>\n",
       "    <tr style=\"text-align: right;\">\n",
       "      <th></th>\n",
       "      <th>appId</th>\n",
       "      <th>date</th>\n",
       "      <th>newinstalls</th>\n",
       "    </tr>\n",
       "  </thead>\n",
       "  <tbody>\n",
       "    <tr>\n",
       "      <th>9976</th>\n",
       "      <td>com.app.35190</td>\n",
       "      <td>2024-03-30</td>\n",
       "      <td>71825.0</td>\n",
       "    </tr>\n",
       "    <tr>\n",
       "      <th>3949</th>\n",
       "      <td>com.app.78794</td>\n",
       "      <td>2024-08-29</td>\n",
       "      <td>70241.0</td>\n",
       "    </tr>\n",
       "    <tr>\n",
       "      <th>41259</th>\n",
       "      <td>com.app.78794</td>\n",
       "      <td>2024-07-01</td>\n",
       "      <td>69082.0</td>\n",
       "    </tr>\n",
       "    <tr>\n",
       "      <th>33359</th>\n",
       "      <td>com.app.78794</td>\n",
       "      <td>2024-05-31</td>\n",
       "      <td>68658.0</td>\n",
       "    </tr>\n",
       "    <tr>\n",
       "      <th>9651</th>\n",
       "      <td>com.app.78794</td>\n",
       "      <td>2024-04-29</td>\n",
       "      <td>68640.0</td>\n",
       "    </tr>\n",
       "  </tbody>\n",
       "</table>\n",
       "</div>"
      ],
      "text/plain": [
       "               appId        date  newinstalls\n",
       "9976   com.app.35190  2024-03-30      71825.0\n",
       "3949   com.app.78794  2024-08-29      70241.0\n",
       "41259  com.app.78794  2024-07-01      69082.0\n",
       "33359  com.app.78794  2024-05-31      68658.0\n",
       "9651   com.app.78794  2024-04-29      68640.0"
      ]
     },
     "execution_count": 104,
     "metadata": {},
     "output_type": "execute_result"
    }
   ],
   "source": [
    "df_limpo[['appId', 'date', 'newinstalls']].sort_values(by='newinstalls', ascending=False).head()"
   ]
  },
  {
   "cell_type": "code",
   "execution_count": 105,
   "id": "57ed08fa",
   "metadata": {},
   "outputs": [
    {
     "data": {
      "text/html": [
       "<div>\n",
       "<style scoped>\n",
       "    .dataframe tbody tr th:only-of-type {\n",
       "        vertical-align: middle;\n",
       "    }\n",
       "\n",
       "    .dataframe tbody tr th {\n",
       "        vertical-align: top;\n",
       "    }\n",
       "\n",
       "    .dataframe thead th {\n",
       "        text-align: right;\n",
       "    }\n",
       "</style>\n",
       "<table border=\"1\" class=\"dataframe\">\n",
       "  <thead>\n",
       "    <tr style=\"text-align: right;\">\n",
       "      <th></th>\n",
       "      <th>appId</th>\n",
       "      <th>date</th>\n",
       "      <th>newinstalls</th>\n",
       "    </tr>\n",
       "  </thead>\n",
       "  <tbody>\n",
       "    <tr>\n",
       "      <th>17</th>\n",
       "      <td>com.app.96938</td>\n",
       "      <td>2024-01-01</td>\n",
       "      <td>0.0</td>\n",
       "    </tr>\n",
       "    <tr>\n",
       "      <th>22556</th>\n",
       "      <td>com.app.96938</td>\n",
       "      <td>2024-08-04</td>\n",
       "      <td>0.0</td>\n",
       "    </tr>\n",
       "    <tr>\n",
       "      <th>39866</th>\n",
       "      <td>com.app.96938</td>\n",
       "      <td>2024-02-04</td>\n",
       "      <td>0.0</td>\n",
       "    </tr>\n",
       "    <tr>\n",
       "      <th>22519</th>\n",
       "      <td>com.app.68942</td>\n",
       "      <td>2024-08-03</td>\n",
       "      <td>0.0</td>\n",
       "    </tr>\n",
       "    <tr>\n",
       "      <th>28110</th>\n",
       "      <td>com.app.96938</td>\n",
       "      <td>2024-04-16</td>\n",
       "      <td>0.0</td>\n",
       "    </tr>\n",
       "  </tbody>\n",
       "</table>\n",
       "</div>"
      ],
      "text/plain": [
       "               appId        date  newinstalls\n",
       "17     com.app.96938  2024-01-01          0.0\n",
       "22556  com.app.96938  2024-08-04          0.0\n",
       "39866  com.app.96938  2024-02-04          0.0\n",
       "22519  com.app.68942  2024-08-03          0.0\n",
       "28110  com.app.96938  2024-04-16          0.0"
      ]
     },
     "execution_count": 105,
     "metadata": {},
     "output_type": "execute_result"
    }
   ],
   "source": [
    "df_limpo[['appId', 'date', 'newinstalls']].sort_values(by='newinstalls', ascending=True).head()"
   ]
  },
  {
   "cell_type": "code",
   "execution_count": 106,
   "id": "760d2747",
   "metadata": {},
   "outputs": [
    {
     "data": {
      "text/plain": [
       "<Axes: >"
      ]
     },
     "execution_count": 106,
     "metadata": {},
     "output_type": "execute_result"
    },
    {
     "data": {
      "image/png": "[encoded data removed]",
      "text/plain": [
       "<Figure size 640x480 with 1 Axes>"
      ]
     },
     "metadata": {},
     "output_type": "display_data"
    }
   ],
   "source": [
    "df_limpo['newinstalls'].plot(kind='box')"
   ]
  },
  {
   "cell_type": "markdown",
   "id": "cb02f4a3",
   "metadata": {},
   "source": [
    "Aparentemente, nenhum dado que esteja extremamente isolado"
   ]
  },
  {
   "cell_type": "markdown",
   "id": "23723072",
   "metadata": {},
   "source": [
    "### total_ratings"
   ]
  },
  {
   "cell_type": "code",
   "execution_count": 107,
   "id": "0be81f25",
   "metadata": {},
   "outputs": [
    {
     "data": {
      "text/html": [
       "<div>\n",
       "<style scoped>\n",
       "    .dataframe tbody tr th:only-of-type {\n",
       "        vertical-align: middle;\n",
       "    }\n",
       "\n",
       "    .dataframe tbody tr th {\n",
       "        vertical-align: top;\n",
       "    }\n",
       "\n",
       "    .dataframe thead th {\n",
       "        text-align: right;\n",
       "    }\n",
       "</style>\n",
       "<table border=\"1\" class=\"dataframe\">\n",
       "  <thead>\n",
       "    <tr style=\"text-align: right;\">\n",
       "      <th></th>\n",
       "      <th>appId</th>\n",
       "      <th>date</th>\n",
       "      <th>total_ratings</th>\n",
       "    </tr>\n",
       "  </thead>\n",
       "  <tbody>\n",
       "    <tr>\n",
       "      <th>30501</th>\n",
       "      <td>com.app.28498</td>\n",
       "      <td>2024-04-09</td>\n",
       "      <td>13214326.0</td>\n",
       "    </tr>\n",
       "    <tr>\n",
       "      <th>41249</th>\n",
       "      <td>com.app.28498</td>\n",
       "      <td>2024-04-08</td>\n",
       "      <td>13213903.0</td>\n",
       "    </tr>\n",
       "    <tr>\n",
       "      <th>17444</th>\n",
       "      <td>com.app.47280</td>\n",
       "      <td>2024-09-30</td>\n",
       "      <td>6861979.0</td>\n",
       "    </tr>\n",
       "    <tr>\n",
       "      <th>19664</th>\n",
       "      <td>com.app.47280</td>\n",
       "      <td>2024-09-29</td>\n",
       "      <td>6861056.0</td>\n",
       "    </tr>\n",
       "    <tr>\n",
       "      <th>31556</th>\n",
       "      <td>com.app.47280</td>\n",
       "      <td>2024-09-28</td>\n",
       "      <td>6859565.0</td>\n",
       "    </tr>\n",
       "  </tbody>\n",
       "</table>\n",
       "</div>"
      ],
      "text/plain": [
       "               appId        date  total_ratings\n",
       "30501  com.app.28498  2024-04-09     13214326.0\n",
       "41249  com.app.28498  2024-04-08     13213903.0\n",
       "17444  com.app.47280  2024-09-30      6861979.0\n",
       "19664  com.app.47280  2024-09-29      6861056.0\n",
       "31556  com.app.47280  2024-09-28      6859565.0"
      ]
     },
     "execution_count": 107,
     "metadata": {},
     "output_type": "execute_result"
    }
   ],
   "source": [
    "df_limpo[['appId', 'date', 'total_ratings']].sort_values(by='total_ratings', ascending=False).head()"
   ]
  },
  {
   "cell_type": "code",
   "execution_count": 108,
   "id": "3e1132d2",
   "metadata": {},
   "outputs": [
    {
     "data": {
      "text/html": [
       "<div>\n",
       "<style scoped>\n",
       "    .dataframe tbody tr th:only-of-type {\n",
       "        vertical-align: middle;\n",
       "    }\n",
       "\n",
       "    .dataframe tbody tr th {\n",
       "        vertical-align: top;\n",
       "    }\n",
       "\n",
       "    .dataframe thead th {\n",
       "        text-align: right;\n",
       "    }\n",
       "</style>\n",
       "<table border=\"1\" class=\"dataframe\">\n",
       "  <thead>\n",
       "    <tr style=\"text-align: right;\">\n",
       "      <th></th>\n",
       "      <th>appId</th>\n",
       "      <th>date</th>\n",
       "      <th>total_ratings</th>\n",
       "    </tr>\n",
       "  </thead>\n",
       "  <tbody>\n",
       "    <tr>\n",
       "      <th>13686</th>\n",
       "      <td>com.app.23000</td>\n",
       "      <td>2024-02-29</td>\n",
       "      <td>19.0</td>\n",
       "    </tr>\n",
       "    <tr>\n",
       "      <th>6115</th>\n",
       "      <td>com.app.23000</td>\n",
       "      <td>2024-02-28</td>\n",
       "      <td>19.0</td>\n",
       "    </tr>\n",
       "    <tr>\n",
       "      <th>32921</th>\n",
       "      <td>com.app.23000</td>\n",
       "      <td>2024-03-02</td>\n",
       "      <td>20.0</td>\n",
       "    </tr>\n",
       "    <tr>\n",
       "      <th>32177</th>\n",
       "      <td>com.app.23000</td>\n",
       "      <td>2024-03-01</td>\n",
       "      <td>20.0</td>\n",
       "    </tr>\n",
       "    <tr>\n",
       "      <th>41005</th>\n",
       "      <td>com.app.23000</td>\n",
       "      <td>2024-03-06</td>\n",
       "      <td>21.0</td>\n",
       "    </tr>\n",
       "  </tbody>\n",
       "</table>\n",
       "</div>"
      ],
      "text/plain": [
       "               appId        date  total_ratings\n",
       "13686  com.app.23000  2024-02-29           19.0\n",
       "6115   com.app.23000  2024-02-28           19.0\n",
       "32921  com.app.23000  2024-03-02           20.0\n",
       "32177  com.app.23000  2024-03-01           20.0\n",
       "41005  com.app.23000  2024-03-06           21.0"
      ]
     },
     "execution_count": 108,
     "metadata": {},
     "output_type": "execute_result"
    }
   ],
   "source": [
    "df_limpo[['appId', 'date', 'total_ratings']].sort_values(by='total_ratings', ascending=True).head()"
   ]
  },
  {
   "cell_type": "code",
   "execution_count": 109,
   "id": "2238d71e",
   "metadata": {},
   "outputs": [
    {
     "data": {
      "text/plain": [
       "<Axes: >"
      ]
     },
     "execution_count": 109,
     "metadata": {},
     "output_type": "execute_result"
    },
    {
     "data": {
      "image/png": "[encoded data removed]",
      "text/plain": [
       "<Figure size 640x480 with 1 Axes>"
      ]
     },
     "metadata": {},
     "output_type": "display_data"
    }
   ],
   "source": [
    "df_limpo['total_ratings'].plot(kind='box')"
   ]
  },
  {
   "cell_type": "markdown",
   "id": "2fac5a74",
   "metadata": {},
   "source": [
    "Aqui existem dados extremamente isolados, o ideal seria conferir com o time de engenharia se está correto mesmo."
   ]
  },
  {
   "cell_type": "markdown",
   "id": "aaca690e",
   "metadata": {},
   "source": [
    "### daily_ratings"
   ]
  },
  {
   "cell_type": "code",
   "execution_count": 110,
   "id": "284a43f3",
   "metadata": {},
   "outputs": [
    {
     "data": {
      "text/html": [
       "<div>\n",
       "<style scoped>\n",
       "    .dataframe tbody tr th:only-of-type {\n",
       "        vertical-align: middle;\n",
       "    }\n",
       "\n",
       "    .dataframe tbody tr th {\n",
       "        vertical-align: top;\n",
       "    }\n",
       "\n",
       "    .dataframe thead th {\n",
       "        text-align: right;\n",
       "    }\n",
       "</style>\n",
       "<table border=\"1\" class=\"dataframe\">\n",
       "  <thead>\n",
       "    <tr style=\"text-align: right;\">\n",
       "      <th></th>\n",
       "      <th>appId</th>\n",
       "      <th>date</th>\n",
       "      <th>daily_ratings</th>\n",
       "    </tr>\n",
       "  </thead>\n",
       "  <tbody>\n",
       "    <tr>\n",
       "      <th>7645</th>\n",
       "      <td>com.app.41189</td>\n",
       "      <td>2024-08-23</td>\n",
       "      <td>6353.0</td>\n",
       "    </tr>\n",
       "    <tr>\n",
       "      <th>8915</th>\n",
       "      <td>com.app.41189</td>\n",
       "      <td>2024-08-26</td>\n",
       "      <td>5741.0</td>\n",
       "    </tr>\n",
       "    <tr>\n",
       "      <th>37020</th>\n",
       "      <td>com.app.41189</td>\n",
       "      <td>2024-09-06</td>\n",
       "      <td>5446.0</td>\n",
       "    </tr>\n",
       "    <tr>\n",
       "      <th>5273</th>\n",
       "      <td>com.app.41189</td>\n",
       "      <td>2024-08-30</td>\n",
       "      <td>5437.0</td>\n",
       "    </tr>\n",
       "    <tr>\n",
       "      <th>1919</th>\n",
       "      <td>com.app.41189</td>\n",
       "      <td>2024-01-05</td>\n",
       "      <td>5297.0</td>\n",
       "    </tr>\n",
       "  </tbody>\n",
       "</table>\n",
       "</div>"
      ],
      "text/plain": [
       "               appId        date  daily_ratings\n",
       "7645   com.app.41189  2024-08-23         6353.0\n",
       "8915   com.app.41189  2024-08-26         5741.0\n",
       "37020  com.app.41189  2024-09-06         5446.0\n",
       "5273   com.app.41189  2024-08-30         5437.0\n",
       "1919   com.app.41189  2024-01-05         5297.0"
      ]
     },
     "execution_count": 110,
     "metadata": {},
     "output_type": "execute_result"
    }
   ],
   "source": [
    "df_limpo[['appId', 'date', 'daily_ratings']].sort_values(by='daily_ratings', ascending=False).head()"
   ]
  },
  {
   "cell_type": "code",
   "execution_count": 114,
   "id": "6bb71a6e",
   "metadata": {},
   "outputs": [
    {
     "data": {
      "text/html": [
       "<div>\n",
       "<style scoped>\n",
       "    .dataframe tbody tr th:only-of-type {\n",
       "        vertical-align: middle;\n",
       "    }\n",
       "\n",
       "    .dataframe tbody tr th {\n",
       "        vertical-align: top;\n",
       "    }\n",
       "\n",
       "    .dataframe thead th {\n",
       "        text-align: right;\n",
       "    }\n",
       "</style>\n",
       "<table border=\"1\" class=\"dataframe\">\n",
       "  <thead>\n",
       "    <tr style=\"text-align: right;\">\n",
       "      <th></th>\n",
       "      <th>appId</th>\n",
       "      <th>date</th>\n",
       "      <th>daily_ratings</th>\n",
       "    </tr>\n",
       "  </thead>\n",
       "  <tbody>\n",
       "    <tr>\n",
       "      <th>17424</th>\n",
       "      <td>com.app.78794</td>\n",
       "      <td>2024-04-16</td>\n",
       "      <td>-86.0</td>\n",
       "    </tr>\n",
       "    <tr>\n",
       "      <th>7529</th>\n",
       "      <td>com.app.78794</td>\n",
       "      <td>2024-04-15</td>\n",
       "      <td>-83.0</td>\n",
       "    </tr>\n",
       "    <tr>\n",
       "      <th>39886</th>\n",
       "      <td>com.app.78794</td>\n",
       "      <td>2024-04-14</td>\n",
       "      <td>-75.0</td>\n",
       "    </tr>\n",
       "    <tr>\n",
       "      <th>18151</th>\n",
       "      <td>com.app.59849</td>\n",
       "      <td>2024-01-16</td>\n",
       "      <td>-74.0</td>\n",
       "    </tr>\n",
       "    <tr>\n",
       "      <th>4742</th>\n",
       "      <td>com.app.59849</td>\n",
       "      <td>2024-01-17</td>\n",
       "      <td>-73.0</td>\n",
       "    </tr>\n",
       "    <tr>\n",
       "      <th>976</th>\n",
       "      <td>com.app.59849</td>\n",
       "      <td>2024-01-15</td>\n",
       "      <td>-73.0</td>\n",
       "    </tr>\n",
       "    <tr>\n",
       "      <th>36140</th>\n",
       "      <td>com.app.59849</td>\n",
       "      <td>2024-01-18</td>\n",
       "      <td>-72.0</td>\n",
       "    </tr>\n",
       "    <tr>\n",
       "      <th>1495</th>\n",
       "      <td>com.app.59849</td>\n",
       "      <td>2024-01-14</td>\n",
       "      <td>-70.0</td>\n",
       "    </tr>\n",
       "    <tr>\n",
       "      <th>31598</th>\n",
       "      <td>com.app.59849</td>\n",
       "      <td>2024-01-19</td>\n",
       "      <td>-70.0</td>\n",
       "    </tr>\n",
       "    <tr>\n",
       "      <th>12348</th>\n",
       "      <td>com.app.59849</td>\n",
       "      <td>2024-01-20</td>\n",
       "      <td>-69.0</td>\n",
       "    </tr>\n",
       "  </tbody>\n",
       "</table>\n",
       "</div>"
      ],
      "text/plain": [
       "               appId        date  daily_ratings\n",
       "17424  com.app.78794  2024-04-16          -86.0\n",
       "7529   com.app.78794  2024-04-15          -83.0\n",
       "39886  com.app.78794  2024-04-14          -75.0\n",
       "18151  com.app.59849  2024-01-16          -74.0\n",
       "4742   com.app.59849  2024-01-17          -73.0\n",
       "976    com.app.59849  2024-01-15          -73.0\n",
       "36140  com.app.59849  2024-01-18          -72.0\n",
       "1495   com.app.59849  2024-01-14          -70.0\n",
       "31598  com.app.59849  2024-01-19          -70.0\n",
       "12348  com.app.59849  2024-01-20          -69.0"
      ]
     },
     "execution_count": 114,
     "metadata": {},
     "output_type": "execute_result"
    }
   ],
   "source": [
    "df_limpo[['appId', 'date', 'daily_ratings']].sort_values(by='daily_ratings', ascending=True).head(10)"
   ]
  },
  {
   "cell_type": "code",
   "execution_count": 115,
   "id": "37f3f124",
   "metadata": {},
   "outputs": [
    {
     "data": {
      "text/plain": [
       "(409, 3)"
      ]
     },
     "execution_count": 115,
     "metadata": {},
     "output_type": "execute_result"
    }
   ],
   "source": [
    "df_teste = df_limpo[['appId', 'date', 'daily_ratings']]\n",
    "menor_que_zero = df_teste[df_teste['daily_ratings'] < 0]\n",
    "menor_que_zero.shape"
   ]
  },
  {
   "cell_type": "code",
   "execution_count": 117,
   "id": "6f884226",
   "metadata": {},
   "outputs": [
    {
     "data": {
      "text/html": [
       "<div>\n",
       "<style scoped>\n",
       "    .dataframe tbody tr th:only-of-type {\n",
       "        vertical-align: middle;\n",
       "    }\n",
       "\n",
       "    .dataframe tbody tr th {\n",
       "        vertical-align: top;\n",
       "    }\n",
       "\n",
       "    .dataframe thead th {\n",
       "        text-align: right;\n",
       "    }\n",
       "</style>\n",
       "<table border=\"1\" class=\"dataframe\">\n",
       "  <thead>\n",
       "    <tr style=\"text-align: right;\">\n",
       "      <th></th>\n",
       "      <th>appId</th>\n",
       "      <th>date</th>\n",
       "      <th>daily_ratings</th>\n",
       "    </tr>\n",
       "  </thead>\n",
       "  <tbody>\n",
       "    <tr>\n",
       "      <th>34938</th>\n",
       "      <td>com.app.60633</td>\n",
       "      <td>2024-03-22</td>\n",
       "      <td>-1.0</td>\n",
       "    </tr>\n",
       "    <tr>\n",
       "      <th>22764</th>\n",
       "      <td>com.app.80525</td>\n",
       "      <td>2024-02-28</td>\n",
       "      <td>-7.0</td>\n",
       "    </tr>\n",
       "    <tr>\n",
       "      <th>18329</th>\n",
       "      <td>com.app.80525</td>\n",
       "      <td>2024-05-07</td>\n",
       "      <td>-8.0</td>\n",
       "    </tr>\n",
       "    <tr>\n",
       "      <th>34793</th>\n",
       "      <td>com.app.80525</td>\n",
       "      <td>2024-09-26</td>\n",
       "      <td>-7.0</td>\n",
       "    </tr>\n",
       "    <tr>\n",
       "      <th>321</th>\n",
       "      <td>com.app.80525</td>\n",
       "      <td>2024-01-06</td>\n",
       "      <td>-3.0</td>\n",
       "    </tr>\n",
       "    <tr>\n",
       "      <th>38156</th>\n",
       "      <td>com.app.60633</td>\n",
       "      <td>2024-09-07</td>\n",
       "      <td>-2.0</td>\n",
       "    </tr>\n",
       "    <tr>\n",
       "      <th>29069</th>\n",
       "      <td>com.app.59849</td>\n",
       "      <td>2024-01-21</td>\n",
       "      <td>-66.0</td>\n",
       "    </tr>\n",
       "  </tbody>\n",
       "</table>\n",
       "</div>"
      ],
      "text/plain": [
       "               appId        date  daily_ratings\n",
       "34938  com.app.60633  2024-03-22           -1.0\n",
       "22764  com.app.80525  2024-02-28           -7.0\n",
       "18329  com.app.80525  2024-05-07           -8.0\n",
       "34793  com.app.80525  2024-09-26           -7.0\n",
       "321    com.app.80525  2024-01-06           -3.0\n",
       "38156  com.app.60633  2024-09-07           -2.0\n",
       "29069  com.app.59849  2024-01-21          -66.0"
      ]
     },
     "execution_count": 117,
     "metadata": {},
     "output_type": "execute_result"
    }
   ],
   "source": [
    "menor_que_zero.sample(7)"
   ]
  },
  {
   "cell_type": "code",
   "execution_count": 118,
   "id": "2195a96d",
   "metadata": {},
   "outputs": [
    {
     "data": {
      "text/plain": [
       "<Axes: >"
      ]
     },
     "execution_count": 118,
     "metadata": {},
     "output_type": "execute_result"
    },
    {
     "data": {
      "image/png": "[encoded data removed]",
      "text/plain": [
       "<Figure size 640x480 with 1 Axes>"
      ]
     },
     "metadata": {},
     "output_type": "display_data"
    }
   ],
   "source": [
    "df_limpo['daily_ratings'].plot(kind='box')"
   ]
  },
  {
   "cell_type": "markdown",
   "id": "b13d3893",
   "metadata": {},
   "source": [
    "Essa variável pela lógica não deveria receber dados negativos. Seria importante entender o motivo de 409 amostras estarem desta forma"
   ]
  },
  {
   "cell_type": "markdown",
   "id": "3421072f",
   "metadata": {},
   "source": [
    "### reviews"
   ]
  },
  {
   "cell_type": "code",
   "execution_count": 119,
   "id": "5943d451",
   "metadata": {},
   "outputs": [
    {
     "data": {
      "text/html": [
       "<div>\n",
       "<style scoped>\n",
       "    .dataframe tbody tr th:only-of-type {\n",
       "        vertical-align: middle;\n",
       "    }\n",
       "\n",
       "    .dataframe tbody tr th {\n",
       "        vertical-align: top;\n",
       "    }\n",
       "\n",
       "    .dataframe thead th {\n",
       "        text-align: right;\n",
       "    }\n",
       "</style>\n",
       "<table border=\"1\" class=\"dataframe\">\n",
       "  <thead>\n",
       "    <tr style=\"text-align: right;\">\n",
       "      <th></th>\n",
       "      <th>appId</th>\n",
       "      <th>date</th>\n",
       "      <th>reviews</th>\n",
       "    </tr>\n",
       "  </thead>\n",
       "  <tbody>\n",
       "    <tr>\n",
       "      <th>17444</th>\n",
       "      <td>com.app.47280</td>\n",
       "      <td>2024-09-30</td>\n",
       "      <td>1491128.0</td>\n",
       "    </tr>\n",
       "    <tr>\n",
       "      <th>19664</th>\n",
       "      <td>com.app.47280</td>\n",
       "      <td>2024-09-29</td>\n",
       "      <td>1491013.0</td>\n",
       "    </tr>\n",
       "    <tr>\n",
       "      <th>31556</th>\n",
       "      <td>com.app.47280</td>\n",
       "      <td>2024-09-28</td>\n",
       "      <td>1490981.0</td>\n",
       "    </tr>\n",
       "    <tr>\n",
       "      <th>24748</th>\n",
       "      <td>com.app.47280</td>\n",
       "      <td>2024-09-27</td>\n",
       "      <td>1490906.0</td>\n",
       "    </tr>\n",
       "    <tr>\n",
       "      <th>22138</th>\n",
       "      <td>com.app.47280</td>\n",
       "      <td>2024-09-26</td>\n",
       "      <td>1490814.0</td>\n",
       "    </tr>\n",
       "  </tbody>\n",
       "</table>\n",
       "</div>"
      ],
      "text/plain": [
       "               appId        date    reviews\n",
       "17444  com.app.47280  2024-09-30  1491128.0\n",
       "19664  com.app.47280  2024-09-29  1491013.0\n",
       "31556  com.app.47280  2024-09-28  1490981.0\n",
       "24748  com.app.47280  2024-09-27  1490906.0\n",
       "22138  com.app.47280  2024-09-26  1490814.0"
      ]
     },
     "execution_count": 119,
     "metadata": {},
     "output_type": "execute_result"
    }
   ],
   "source": [
    "df_limpo[['appId', 'date', 'reviews']].sort_values(by='reviews', ascending=False).head()"
   ]
  },
  {
   "cell_type": "code",
   "execution_count": 120,
   "id": "8e9d1960",
   "metadata": {},
   "outputs": [
    {
     "data": {
      "text/html": [
       "<div>\n",
       "<style scoped>\n",
       "    .dataframe tbody tr th:only-of-type {\n",
       "        vertical-align: middle;\n",
       "    }\n",
       "\n",
       "    .dataframe tbody tr th {\n",
       "        vertical-align: top;\n",
       "    }\n",
       "\n",
       "    .dataframe thead th {\n",
       "        text-align: right;\n",
       "    }\n",
       "</style>\n",
       "<table border=\"1\" class=\"dataframe\">\n",
       "  <thead>\n",
       "    <tr style=\"text-align: right;\">\n",
       "      <th></th>\n",
       "      <th>appId</th>\n",
       "      <th>date</th>\n",
       "      <th>reviews</th>\n",
       "    </tr>\n",
       "  </thead>\n",
       "  <tbody>\n",
       "    <tr>\n",
       "      <th>32177</th>\n",
       "      <td>com.app.23000</td>\n",
       "      <td>2024-03-01</td>\n",
       "      <td>11.0</td>\n",
       "    </tr>\n",
       "    <tr>\n",
       "      <th>13686</th>\n",
       "      <td>com.app.23000</td>\n",
       "      <td>2024-02-29</td>\n",
       "      <td>11.0</td>\n",
       "    </tr>\n",
       "    <tr>\n",
       "      <th>6115</th>\n",
       "      <td>com.app.23000</td>\n",
       "      <td>2024-02-28</td>\n",
       "      <td>11.0</td>\n",
       "    </tr>\n",
       "    <tr>\n",
       "      <th>32921</th>\n",
       "      <td>com.app.23000</td>\n",
       "      <td>2024-03-02</td>\n",
       "      <td>12.0</td>\n",
       "    </tr>\n",
       "    <tr>\n",
       "      <th>14999</th>\n",
       "      <td>com.app.23000</td>\n",
       "      <td>2024-03-05</td>\n",
       "      <td>12.0</td>\n",
       "    </tr>\n",
       "  </tbody>\n",
       "</table>\n",
       "</div>"
      ],
      "text/plain": [
       "               appId        date  reviews\n",
       "32177  com.app.23000  2024-03-01     11.0\n",
       "13686  com.app.23000  2024-02-29     11.0\n",
       "6115   com.app.23000  2024-02-28     11.0\n",
       "32921  com.app.23000  2024-03-02     12.0\n",
       "14999  com.app.23000  2024-03-05     12.0"
      ]
     },
     "execution_count": 120,
     "metadata": {},
     "output_type": "execute_result"
    }
   ],
   "source": [
    "df_limpo[['appId', 'date', 'reviews']].sort_values(by='reviews', ascending=True).head()"
   ]
  },
  {
   "cell_type": "code",
   "execution_count": 121,
   "id": "5f10146b",
   "metadata": {},
   "outputs": [
    {
     "data": {
      "text/plain": [
       "<Axes: >"
      ]
     },
     "execution_count": 121,
     "metadata": {},
     "output_type": "execute_result"
    },
    {
     "data": {
      "image/png": "[encoded data removed]",
      "text/plain": [
       "<Figure size 640x480 with 1 Axes>"
      ]
     },
     "metadata": {},
     "output_type": "display_data"
    }
   ],
   "source": [
    "df_limpo['reviews'].plot(kind='box')"
   ]
  },
  {
   "cell_type": "markdown",
   "id": "df8c4426",
   "metadata": {},
   "source": [
    "Aparentemente, um comportamento normal."
   ]
  },
  {
   "cell_type": "markdown",
   "id": "203a1541",
   "metadata": {},
   "source": [
    "### daily_reviews"
   ]
  },
  {
   "cell_type": "code",
   "execution_count": 122,
   "id": "786d89b9",
   "metadata": {},
   "outputs": [
    {
     "data": {
      "text/html": [
       "<div>\n",
       "<style scoped>\n",
       "    .dataframe tbody tr th:only-of-type {\n",
       "        vertical-align: middle;\n",
       "    }\n",
       "\n",
       "    .dataframe tbody tr th {\n",
       "        vertical-align: top;\n",
       "    }\n",
       "\n",
       "    .dataframe thead th {\n",
       "        text-align: right;\n",
       "    }\n",
       "</style>\n",
       "<table border=\"1\" class=\"dataframe\">\n",
       "  <thead>\n",
       "    <tr style=\"text-align: right;\">\n",
       "      <th></th>\n",
       "      <th>appId</th>\n",
       "      <th>date</th>\n",
       "      <th>daily_reviews</th>\n",
       "    </tr>\n",
       "  </thead>\n",
       "  <tbody>\n",
       "    <tr>\n",
       "      <th>14096</th>\n",
       "      <td>com.app.78794</td>\n",
       "      <td>2024-04-18</td>\n",
       "      <td>1808.0</td>\n",
       "    </tr>\n",
       "    <tr>\n",
       "      <th>29952</th>\n",
       "      <td>com.app.78794</td>\n",
       "      <td>2024-05-28</td>\n",
       "      <td>923.0</td>\n",
       "    </tr>\n",
       "    <tr>\n",
       "      <th>1776</th>\n",
       "      <td>com.app.19544</td>\n",
       "      <td>2024-01-03</td>\n",
       "      <td>777.0</td>\n",
       "    </tr>\n",
       "    <tr>\n",
       "      <th>794</th>\n",
       "      <td>com.app.19544</td>\n",
       "      <td>2024-01-04</td>\n",
       "      <td>775.0</td>\n",
       "    </tr>\n",
       "    <tr>\n",
       "      <th>6229</th>\n",
       "      <td>com.app.78794</td>\n",
       "      <td>2024-04-21</td>\n",
       "      <td>767.0</td>\n",
       "    </tr>\n",
       "  </tbody>\n",
       "</table>\n",
       "</div>"
      ],
      "text/plain": [
       "               appId        date  daily_reviews\n",
       "14096  com.app.78794  2024-04-18         1808.0\n",
       "29952  com.app.78794  2024-05-28          923.0\n",
       "1776   com.app.19544  2024-01-03          777.0\n",
       "794    com.app.19544  2024-01-04          775.0\n",
       "6229   com.app.78794  2024-04-21          767.0"
      ]
     },
     "execution_count": 122,
     "metadata": {},
     "output_type": "execute_result"
    }
   ],
   "source": [
    "df_limpo[['appId', 'date', 'daily_reviews']].sort_values(by='daily_reviews', ascending=False).head()"
   ]
  },
  {
   "cell_type": "code",
   "execution_count": 123,
   "id": "0c19cf6d",
   "metadata": {},
   "outputs": [
    {
     "data": {
      "text/html": [
       "<div>\n",
       "<style scoped>\n",
       "    .dataframe tbody tr th:only-of-type {\n",
       "        vertical-align: middle;\n",
       "    }\n",
       "\n",
       "    .dataframe tbody tr th {\n",
       "        vertical-align: top;\n",
       "    }\n",
       "\n",
       "    .dataframe thead th {\n",
       "        text-align: right;\n",
       "    }\n",
       "</style>\n",
       "<table border=\"1\" class=\"dataframe\">\n",
       "  <thead>\n",
       "    <tr style=\"text-align: right;\">\n",
       "      <th></th>\n",
       "      <th>appId</th>\n",
       "      <th>date</th>\n",
       "      <th>daily_reviews</th>\n",
       "    </tr>\n",
       "  </thead>\n",
       "  <tbody>\n",
       "    <tr>\n",
       "      <th>39886</th>\n",
       "      <td>com.app.78794</td>\n",
       "      <td>2024-04-14</td>\n",
       "      <td>-75.0</td>\n",
       "    </tr>\n",
       "    <tr>\n",
       "      <th>7529</th>\n",
       "      <td>com.app.78794</td>\n",
       "      <td>2024-04-15</td>\n",
       "      <td>-74.0</td>\n",
       "    </tr>\n",
       "    <tr>\n",
       "      <th>4302</th>\n",
       "      <td>com.app.78794</td>\n",
       "      <td>2024-04-13</td>\n",
       "      <td>-74.0</td>\n",
       "    </tr>\n",
       "    <tr>\n",
       "      <th>30495</th>\n",
       "      <td>com.app.78794</td>\n",
       "      <td>2024-04-12</td>\n",
       "      <td>-68.0</td>\n",
       "    </tr>\n",
       "    <tr>\n",
       "      <th>18151</th>\n",
       "      <td>com.app.59849</td>\n",
       "      <td>2024-01-16</td>\n",
       "      <td>-62.0</td>\n",
       "    </tr>\n",
       "  </tbody>\n",
       "</table>\n",
       "</div>"
      ],
      "text/plain": [
       "               appId        date  daily_reviews\n",
       "39886  com.app.78794  2024-04-14          -75.0\n",
       "7529   com.app.78794  2024-04-15          -74.0\n",
       "4302   com.app.78794  2024-04-13          -74.0\n",
       "30495  com.app.78794  2024-04-12          -68.0\n",
       "18151  com.app.59849  2024-01-16          -62.0"
      ]
     },
     "execution_count": 123,
     "metadata": {},
     "output_type": "execute_result"
    }
   ],
   "source": [
    "df_limpo[['appId', 'date', 'daily_reviews']].sort_values(by='daily_reviews', ascending=True).head()"
   ]
  },
  {
   "cell_type": "code",
   "execution_count": 124,
   "id": "44c3713e",
   "metadata": {},
   "outputs": [
    {
     "data": {
      "text/plain": [
       "<Axes: >"
      ]
     },
     "execution_count": 124,
     "metadata": {},
     "output_type": "execute_result"
    },
    {
     "data": {
      "image/png": "[encoded data removed]",
      "text/plain": [
       "<Figure size 640x480 with 1 Axes>"
      ]
     },
     "metadata": {},
     "output_type": "display_data"
    }
   ],
   "source": [
    "df_limpo['daily_reviews'].plot(kind='box')"
   ]
  },
  {
   "cell_type": "markdown",
   "id": "a0850a79",
   "metadata": {},
   "source": [
    "- Existe um dado extremo, mas dentro da escala de valores, é aparentemente aceitavel.<br>\n",
    "- Existem valores negativos também. Necessário conferir o motivo."
   ]
  },
  {
   "cell_type": "markdown",
   "id": "6804595e",
   "metadata": {},
   "source": [
    "### daily_active_users_TARGET"
   ]
  },
  {
   "cell_type": "code",
   "execution_count": 125,
   "id": "c2695b4e",
   "metadata": {},
   "outputs": [
    {
     "data": {
      "text/html": [
       "<div>\n",
       "<style scoped>\n",
       "    .dataframe tbody tr th:only-of-type {\n",
       "        vertical-align: middle;\n",
       "    }\n",
       "\n",
       "    .dataframe tbody tr th {\n",
       "        vertical-align: top;\n",
       "    }\n",
       "\n",
       "    .dataframe thead th {\n",
       "        text-align: right;\n",
       "    }\n",
       "</style>\n",
       "<table border=\"1\" class=\"dataframe\">\n",
       "  <thead>\n",
       "    <tr style=\"text-align: right;\">\n",
       "      <th></th>\n",
       "      <th>appId</th>\n",
       "      <th>date</th>\n",
       "      <th>daily_active_users_TARGET</th>\n",
       "    </tr>\n",
       "  </thead>\n",
       "  <tbody>\n",
       "    <tr>\n",
       "      <th>24823</th>\n",
       "      <td>com.app.47280</td>\n",
       "      <td>2024-04-05</td>\n",
       "      <td>10648152.0</td>\n",
       "    </tr>\n",
       "    <tr>\n",
       "      <th>35544</th>\n",
       "      <td>com.app.47280</td>\n",
       "      <td>2024-07-05</td>\n",
       "      <td>10547548.0</td>\n",
       "    </tr>\n",
       "    <tr>\n",
       "      <th>33556</th>\n",
       "      <td>com.app.47280</td>\n",
       "      <td>2024-09-06</td>\n",
       "      <td>10486370.0</td>\n",
       "    </tr>\n",
       "    <tr>\n",
       "      <th>2657</th>\n",
       "      <td>com.app.47280</td>\n",
       "      <td>2024-05-07</td>\n",
       "      <td>10329011.0</td>\n",
       "    </tr>\n",
       "    <tr>\n",
       "      <th>23265</th>\n",
       "      <td>com.app.47280</td>\n",
       "      <td>2024-06-06</td>\n",
       "      <td>10269678.0</td>\n",
       "    </tr>\n",
       "  </tbody>\n",
       "</table>\n",
       "</div>"
      ],
      "text/plain": [
       "               appId        date  daily_active_users_TARGET\n",
       "24823  com.app.47280  2024-04-05                 10648152.0\n",
       "35544  com.app.47280  2024-07-05                 10547548.0\n",
       "33556  com.app.47280  2024-09-06                 10486370.0\n",
       "2657   com.app.47280  2024-05-07                 10329011.0\n",
       "23265  com.app.47280  2024-06-06                 10269678.0"
      ]
     },
     "execution_count": 125,
     "metadata": {},
     "output_type": "execute_result"
    }
   ],
   "source": [
    "df_limpo[['appId', 'date', 'daily_active_users_TARGET']].sort_values(by='daily_active_users_TARGET', ascending=False).head()"
   ]
  },
  {
   "cell_type": "code",
   "execution_count": 126,
   "id": "741467e0",
   "metadata": {},
   "outputs": [
    {
     "data": {
      "text/html": [
       "<div>\n",
       "<style scoped>\n",
       "    .dataframe tbody tr th:only-of-type {\n",
       "        vertical-align: middle;\n",
       "    }\n",
       "\n",
       "    .dataframe tbody tr th {\n",
       "        vertical-align: top;\n",
       "    }\n",
       "\n",
       "    .dataframe thead th {\n",
       "        text-align: right;\n",
       "    }\n",
       "</style>\n",
       "<table border=\"1\" class=\"dataframe\">\n",
       "  <thead>\n",
       "    <tr style=\"text-align: right;\">\n",
       "      <th></th>\n",
       "      <th>appId</th>\n",
       "      <th>date</th>\n",
       "      <th>daily_active_users_TARGET</th>\n",
       "    </tr>\n",
       "  </thead>\n",
       "  <tbody>\n",
       "    <tr>\n",
       "      <th>5982</th>\n",
       "      <td>com.app.48916</td>\n",
       "      <td>2024-03-04</td>\n",
       "      <td>750.0</td>\n",
       "    </tr>\n",
       "    <tr>\n",
       "      <th>34581</th>\n",
       "      <td>com.app.79907</td>\n",
       "      <td>2024-07-28</td>\n",
       "      <td>751.0</td>\n",
       "    </tr>\n",
       "    <tr>\n",
       "      <th>16577</th>\n",
       "      <td>com.app.48916</td>\n",
       "      <td>2024-07-07</td>\n",
       "      <td>751.0</td>\n",
       "    </tr>\n",
       "    <tr>\n",
       "      <th>39706</th>\n",
       "      <td>com.app.79907</td>\n",
       "      <td>2024-08-15</td>\n",
       "      <td>753.0</td>\n",
       "    </tr>\n",
       "    <tr>\n",
       "      <th>12120</th>\n",
       "      <td>com.app.48916</td>\n",
       "      <td>2024-02-29</td>\n",
       "      <td>753.0</td>\n",
       "    </tr>\n",
       "  </tbody>\n",
       "</table>\n",
       "</div>"
      ],
      "text/plain": [
       "               appId        date  daily_active_users_TARGET\n",
       "5982   com.app.48916  2024-03-04                      750.0\n",
       "34581  com.app.79907  2024-07-28                      751.0\n",
       "16577  com.app.48916  2024-07-07                      751.0\n",
       "39706  com.app.79907  2024-08-15                      753.0\n",
       "12120  com.app.48916  2024-02-29                      753.0"
      ]
     },
     "execution_count": 126,
     "metadata": {},
     "output_type": "execute_result"
    }
   ],
   "source": [
    "df_limpo[['appId', 'date', 'daily_active_users_TARGET']].sort_values(by='daily_active_users_TARGET', ascending=True).head()"
   ]
  },
  {
   "cell_type": "code",
   "execution_count": 127,
   "id": "2aff6c18",
   "metadata": {},
   "outputs": [
    {
     "data": {
      "text/plain": [
       "<Axes: >"
      ]
     },
     "execution_count": 127,
     "metadata": {},
     "output_type": "execute_result"
    },
    {
     "data": {
      "image/png": "[encoded data removed]",
      "text/plain": [
       "<Figure size 640x480 with 1 Axes>"
      ]
     },
     "metadata": {},
     "output_type": "display_data"
    }
   ],
   "source": [
    "df_limpo['daily_active_users_TARGET'].plot(kind='box')"
   ]
  },
  {
   "cell_type": "markdown",
   "id": "2c4273b4",
   "metadata": {},
   "source": [
    "Aparentemente, nenhum dado que esteja extremamente isolado."
   ]
  },
  {
   "cell_type": "markdown",
   "id": "58a48169",
   "metadata": {},
   "source": [
    "### Variáveis categóricas"
   ]
  },
  {
   "cell_type": "code",
   "execution_count": 92,
   "id": "1004b8bd",
   "metadata": {},
   "outputs": [
    {
     "data": {
      "text/plain": [
       "country\n",
       "br    38159\n",
       "Name: count, dtype: int64"
      ]
     },
     "execution_count": 92,
     "metadata": {},
     "output_type": "execute_result"
    }
   ],
   "source": [
    "df_limpo['country'].value_counts()"
   ]
  },
  {
   "cell_type": "code",
   "execution_count": 93,
   "id": "66c7bb83",
   "metadata": {},
   "outputs": [
    {
     "data": {
      "text/plain": [
       "lang\n",
       "pt    38159\n",
       "Name: count, dtype: int64"
      ]
     },
     "execution_count": 93,
     "metadata": {},
     "output_type": "execute_result"
    }
   ],
   "source": [
    "df_limpo['lang'].value_counts()"
   ]
  },
  {
   "cell_type": "code",
   "execution_count": 94,
   "id": "60c29377",
   "metadata": {},
   "outputs": [
    {
     "data": {
      "text/plain": [
       "category\n",
       "FINANCE             15164\n",
       "OTHERS               9019\n",
       "SHOPPING             6799\n",
       "BUSINESS             3535\n",
       "TRAVEL_AND_LOCAL     2510\n",
       "FOOD_AND_DRINK       1132\n",
       "Name: count, dtype: int64"
      ]
     },
     "execution_count": 94,
     "metadata": {},
     "output_type": "execute_result"
    }
   ],
   "source": [
    "df_limpo['category'].value_counts()"
   ]
  },
  {
   "cell_type": "code",
   "execution_count": null,
   "id": "55991436",
   "metadata": {},
   "outputs": [
    {
     "data": {
      "text/html": [
       "<div>\n",
       "<style scoped>\n",
       "    .dataframe tbody tr th:only-of-type {\n",
       "        vertical-align: middle;\n",
       "    }\n",
       "\n",
       "    .dataframe tbody tr th {\n",
       "        vertical-align: top;\n",
       "    }\n",
       "\n",
       "    .dataframe thead th {\n",
       "        text-align: right;\n",
       "    }\n",
       "</style>\n",
       "<table border=\"1\" class=\"dataframe\">\n",
       "  <thead>\n",
       "    <tr style=\"text-align: right;\">\n",
       "      <th></th>\n",
       "      <th>appId</th>\n",
       "      <th>date</th>\n",
       "      <th>predictionLoss</th>\n",
       "    </tr>\n",
       "  </thead>\n",
       "  <tbody>\n",
       "    <tr>\n",
       "      <th>33768</th>\n",
       "      <td>com.app.78794</td>\n",
       "      <td>2024-04-05</td>\n",
       "      <td>189683.0</td>\n",
       "    </tr>\n",
       "    <tr>\n",
       "      <th>22731</th>\n",
       "      <td>com.app.78794</td>\n",
       "      <td>2024-03-22</td>\n",
       "      <td>177069.0</td>\n",
       "    </tr>\n",
       "    <tr>\n",
       "      <th>18150</th>\n",
       "      <td>com.app.78794</td>\n",
       "      <td>2024-01-29</td>\n",
       "      <td>171682.0</td>\n",
       "    </tr>\n",
       "    <tr>\n",
       "      <th>18519</th>\n",
       "      <td>com.app.78794</td>\n",
       "      <td>2024-05-03</td>\n",
       "      <td>171174.0</td>\n",
       "    </tr>\n",
       "    <tr>\n",
       "      <th>23592</th>\n",
       "      <td>com.app.78794</td>\n",
       "      <td>2024-03-28</td>\n",
       "      <td>170588.0</td>\n",
       "    </tr>\n",
       "  </tbody>\n",
       "</table>\n",
       "</div>"
      ],
      "text/plain": [
       "               appId        date  predictionLoss\n",
       "33768  com.app.78794  2024-04-05        189683.0\n",
       "22731  com.app.78794  2024-03-22        177069.0\n",
       "18150  com.app.78794  2024-01-29        171682.0\n",
       "18519  com.app.78794  2024-05-03        171174.0\n",
       "23592  com.app.78794  2024-03-28        170588.0"
      ]
     },
     "execution_count": 99,
     "metadata": {},
     "output_type": "execute_result"
    }
   ],
   "source": []
  },
  {
   "cell_type": "code",
   "execution_count": 100,
   "id": "67ee8ac9",
   "metadata": {},
   "outputs": [
    {
     "data": {
      "text/html": [
       "<div>\n",
       "<style scoped>\n",
       "    .dataframe tbody tr th:only-of-type {\n",
       "        vertical-align: middle;\n",
       "    }\n",
       "\n",
       "    .dataframe tbody tr th {\n",
       "        vertical-align: top;\n",
       "    }\n",
       "\n",
       "    .dataframe thead th {\n",
       "        text-align: right;\n",
       "    }\n",
       "</style>\n",
       "<table border=\"1\" class=\"dataframe\">\n",
       "  <thead>\n",
       "    <tr style=\"text-align: right;\">\n",
       "      <th></th>\n",
       "      <th>appId</th>\n",
       "      <th>date</th>\n",
       "      <th>predictionLoss</th>\n",
       "    </tr>\n",
       "  </thead>\n",
       "  <tbody>\n",
       "    <tr>\n",
       "      <th>16959</th>\n",
       "      <td>com.app.66274</td>\n",
       "      <td>2024-02-10</td>\n",
       "      <td>455.0</td>\n",
       "    </tr>\n",
       "    <tr>\n",
       "      <th>5020</th>\n",
       "      <td>com.app.66274</td>\n",
       "      <td>2024-03-31</td>\n",
       "      <td>472.0</td>\n",
       "    </tr>\n",
       "    <tr>\n",
       "      <th>4752</th>\n",
       "      <td>com.app.66274</td>\n",
       "      <td>2024-01-21</td>\n",
       "      <td>487.0</td>\n",
       "    </tr>\n",
       "    <tr>\n",
       "      <th>35266</th>\n",
       "      <td>com.app.66274</td>\n",
       "      <td>2024-04-02</td>\n",
       "      <td>513.0</td>\n",
       "    </tr>\n",
       "    <tr>\n",
       "      <th>31469</th>\n",
       "      <td>com.app.66274</td>\n",
       "      <td>2024-04-01</td>\n",
       "      <td>514.0</td>\n",
       "    </tr>\n",
       "  </tbody>\n",
       "</table>\n",
       "</div>"
      ],
      "text/plain": [
       "               appId        date  predictionLoss\n",
       "16959  com.app.66274  2024-02-10           455.0\n",
       "5020   com.app.66274  2024-03-31           472.0\n",
       "4752   com.app.66274  2024-01-21           487.0\n",
       "35266  com.app.66274  2024-04-02           513.0\n",
       "31469  com.app.66274  2024-04-01           514.0"
      ]
     },
     "execution_count": 100,
     "metadata": {},
     "output_type": "execute_result"
    }
   ],
   "source": [
    "df_limpo[['appId', 'date', 'predictionLoss']].sort_values(by='predictionLoss', ascending=True).head()"
   ]
  },
  {
   "cell_type": "markdown",
   "id": "17ef6d02",
   "metadata": {},
   "source": [
    "### Ajustando inconsistências encontradas"
   ]
  },
  {
   "cell_type": "markdown",
   "id": "62b4c7e7",
   "metadata": {},
   "source": [
    "- Nas colunas \"daily_reviews\" e \"daily_ratings\" existem valores negativos. Considerando que não há a possibilidade de existir a quantidade negativa de um evento em um dia (no mínimo 0), vamos transformar esses valores para positivo.<br><br>\n",
    "- Lembrando que essa ação deve ser feita somente após a verificação com o time de engenharia."
   ]
  },
  {
   "cell_type": "code",
   "execution_count": 132,
   "id": "b4da8990",
   "metadata": {},
   "outputs": [],
   "source": [
    "df_limpo.loc[:, 'daily_reviews'] = df_limpo['daily_reviews'].abs()\n",
    "df_limpo.loc[:, 'daily_ratings'] = df_limpo['daily_ratings'].abs()"
   ]
  },
  {
   "cell_type": "code",
   "execution_count": 135,
   "id": "36128ce3",
   "metadata": {},
   "outputs": [
    {
     "data": {
      "text/html": [
       "<div>\n",
       "<style scoped>\n",
       "    .dataframe tbody tr th:only-of-type {\n",
       "        vertical-align: middle;\n",
       "    }\n",
       "\n",
       "    .dataframe tbody tr th {\n",
       "        vertical-align: top;\n",
       "    }\n",
       "\n",
       "    .dataframe thead th {\n",
       "        text-align: right;\n",
       "    }\n",
       "</style>\n",
       "<table border=\"1\" class=\"dataframe\">\n",
       "  <thead>\n",
       "    <tr style=\"text-align: right;\">\n",
       "      <th></th>\n",
       "      <th>appId</th>\n",
       "      <th>date</th>\n",
       "      <th>daily_reviews</th>\n",
       "    </tr>\n",
       "  </thead>\n",
       "  <tbody>\n",
       "    <tr>\n",
       "      <th>41402</th>\n",
       "      <td>com.app.69241</td>\n",
       "      <td>2024-02-05</td>\n",
       "      <td>0.0</td>\n",
       "    </tr>\n",
       "    <tr>\n",
       "      <th>26</th>\n",
       "      <td>com.app.31454</td>\n",
       "      <td>2024-01-01</td>\n",
       "      <td>0.0</td>\n",
       "    </tr>\n",
       "    <tr>\n",
       "      <th>25</th>\n",
       "      <td>com.app.53788</td>\n",
       "      <td>2024-01-01</td>\n",
       "      <td>0.0</td>\n",
       "    </tr>\n",
       "    <tr>\n",
       "      <th>24958</th>\n",
       "      <td>com.app.20651</td>\n",
       "      <td>2024-05-04</td>\n",
       "      <td>0.0</td>\n",
       "    </tr>\n",
       "    <tr>\n",
       "      <th>24988</th>\n",
       "      <td>com.app.60770</td>\n",
       "      <td>2024-03-21</td>\n",
       "      <td>0.0</td>\n",
       "    </tr>\n",
       "  </tbody>\n",
       "</table>\n",
       "</div>"
      ],
      "text/plain": [
       "               appId        date  daily_reviews\n",
       "41402  com.app.69241  2024-02-05            0.0\n",
       "26     com.app.31454  2024-01-01            0.0\n",
       "25     com.app.53788  2024-01-01            0.0\n",
       "24958  com.app.20651  2024-05-04            0.0\n",
       "24988  com.app.60770  2024-03-21            0.0"
      ]
     },
     "execution_count": 135,
     "metadata": {},
     "output_type": "execute_result"
    }
   ],
   "source": [
    "df_limpo[['appId', 'date', 'daily_reviews']].sort_values(by='daily_reviews', ascending=True).head()"
   ]
  },
  {
   "cell_type": "code",
   "execution_count": 136,
   "id": "e17401f6",
   "metadata": {},
   "outputs": [
    {
     "data": {
      "text/html": [
       "<div>\n",
       "<style scoped>\n",
       "    .dataframe tbody tr th:only-of-type {\n",
       "        vertical-align: middle;\n",
       "    }\n",
       "\n",
       "    .dataframe tbody tr th {\n",
       "        vertical-align: top;\n",
       "    }\n",
       "\n",
       "    .dataframe thead th {\n",
       "        text-align: right;\n",
       "    }\n",
       "</style>\n",
       "<table border=\"1\" class=\"dataframe\">\n",
       "  <thead>\n",
       "    <tr style=\"text-align: right;\">\n",
       "      <th></th>\n",
       "      <th>appId</th>\n",
       "      <th>date</th>\n",
       "      <th>daily_ratings</th>\n",
       "    </tr>\n",
       "  </thead>\n",
       "  <tbody>\n",
       "    <tr>\n",
       "      <th>10379</th>\n",
       "      <td>com.app.78155</td>\n",
       "      <td>2024-03-02</td>\n",
       "      <td>0.0</td>\n",
       "    </tr>\n",
       "    <tr>\n",
       "      <th>34807</th>\n",
       "      <td>com.app.93131</td>\n",
       "      <td>2024-04-27</td>\n",
       "      <td>0.0</td>\n",
       "    </tr>\n",
       "    <tr>\n",
       "      <th>34797</th>\n",
       "      <td>com.app.69241</td>\n",
       "      <td>2024-02-14</td>\n",
       "      <td>0.0</td>\n",
       "    </tr>\n",
       "    <tr>\n",
       "      <th>10365</th>\n",
       "      <td>com.app.47938</td>\n",
       "      <td>2024-07-05</td>\n",
       "      <td>0.0</td>\n",
       "    </tr>\n",
       "    <tr>\n",
       "      <th>10364</th>\n",
       "      <td>com.app.89044</td>\n",
       "      <td>2024-06-30</td>\n",
       "      <td>0.0</td>\n",
       "    </tr>\n",
       "  </tbody>\n",
       "</table>\n",
       "</div>"
      ],
      "text/plain": [
       "               appId        date  daily_ratings\n",
       "10379  com.app.78155  2024-03-02            0.0\n",
       "34807  com.app.93131  2024-04-27            0.0\n",
       "34797  com.app.69241  2024-02-14            0.0\n",
       "10365  com.app.47938  2024-07-05            0.0\n",
       "10364  com.app.89044  2024-06-30            0.0"
      ]
     },
     "execution_count": 136,
     "metadata": {},
     "output_type": "execute_result"
    }
   ],
   "source": [
    "df_limpo[['appId', 'date', 'daily_ratings']].sort_values(by='daily_ratings', ascending=True).head()"
   ]
  },
  {
   "cell_type": "markdown",
   "id": "4971d9a7",
   "metadata": {},
   "source": [
    "### Exportando csv"
   ]
  },
  {
   "cell_type": "code",
   "execution_count": 137,
   "id": "5fb5ce59",
   "metadata": {},
   "outputs": [
    {
     "data": {
      "text/html": [
       "<div>\n",
       "<style scoped>\n",
       "    .dataframe tbody tr th:only-of-type {\n",
       "        vertical-align: middle;\n",
       "    }\n",
       "\n",
       "    .dataframe tbody tr th {\n",
       "        vertical-align: top;\n",
       "    }\n",
       "\n",
       "    .dataframe thead th {\n",
       "        text-align: right;\n",
       "    }\n",
       "</style>\n",
       "<table border=\"1\" class=\"dataframe\">\n",
       "  <thead>\n",
       "    <tr style=\"text-align: right;\">\n",
       "      <th></th>\n",
       "      <th>appId</th>\n",
       "      <th>date</th>\n",
       "      <th>monthly_active_users</th>\n",
       "      <th>country</th>\n",
       "      <th>lang</th>\n",
       "      <th>predictionLoss</th>\n",
       "      <th>newinstalls</th>\n",
       "      <th>category</th>\n",
       "      <th>total_ratings</th>\n",
       "      <th>daily_ratings</th>\n",
       "      <th>reviews</th>\n",
       "      <th>daily_reviews</th>\n",
       "      <th>daily_active_users_TARGET</th>\n",
       "    </tr>\n",
       "  </thead>\n",
       "  <tbody>\n",
       "    <tr>\n",
       "      <th>0</th>\n",
       "      <td>com.app.33540</td>\n",
       "      <td>2024-01-01</td>\n",
       "      <td>3643110.0</td>\n",
       "      <td>br</td>\n",
       "      <td>pt</td>\n",
       "      <td>8170.0</td>\n",
       "      <td>8068.0</td>\n",
       "      <td>FINANCE</td>\n",
       "      <td>223848.0</td>\n",
       "      <td>297.0</td>\n",
       "      <td>82172.0</td>\n",
       "      <td>46.0</td>\n",
       "      <td>393961.0</td>\n",
       "    </tr>\n",
       "    <tr>\n",
       "      <th>1</th>\n",
       "      <td>com.app.31679</td>\n",
       "      <td>2024-01-01</td>\n",
       "      <td>1349262.0</td>\n",
       "      <td>br</td>\n",
       "      <td>pt</td>\n",
       "      <td>4287.0</td>\n",
       "      <td>2160.0</td>\n",
       "      <td>FINANCE</td>\n",
       "      <td>277813.0</td>\n",
       "      <td>132.0</td>\n",
       "      <td>139907.0</td>\n",
       "      <td>19.0</td>\n",
       "      <td>157532.0</td>\n",
       "    </tr>\n",
       "    <tr>\n",
       "      <th>2</th>\n",
       "      <td>com.app.77385</td>\n",
       "      <td>2024-01-01</td>\n",
       "      <td>1934660.0</td>\n",
       "      <td>br</td>\n",
       "      <td>pt</td>\n",
       "      <td>4497.0</td>\n",
       "      <td>3136.0</td>\n",
       "      <td>FINANCE</td>\n",
       "      <td>197329.0</td>\n",
       "      <td>187.0</td>\n",
       "      <td>79637.0</td>\n",
       "      <td>25.0</td>\n",
       "      <td>239768.0</td>\n",
       "    </tr>\n",
       "    <tr>\n",
       "      <th>3</th>\n",
       "      <td>com.app.41189</td>\n",
       "      <td>2024-01-01</td>\n",
       "      <td>19039746.0</td>\n",
       "      <td>br</td>\n",
       "      <td>pt</td>\n",
       "      <td>45759.0</td>\n",
       "      <td>13830.0</td>\n",
       "      <td>FINANCE</td>\n",
       "      <td>3499378.0</td>\n",
       "      <td>766.0</td>\n",
       "      <td>952285.0</td>\n",
       "      <td>171.0</td>\n",
       "      <td>4954347.0</td>\n",
       "    </tr>\n",
       "    <tr>\n",
       "      <th>4</th>\n",
       "      <td>com.app.71740</td>\n",
       "      <td>2024-01-01</td>\n",
       "      <td>34421.0</td>\n",
       "      <td>br</td>\n",
       "      <td>pt</td>\n",
       "      <td>1463.0</td>\n",
       "      <td>100.0</td>\n",
       "      <td>FINANCE</td>\n",
       "      <td>8327.0</td>\n",
       "      <td>1.0</td>\n",
       "      <td>4351.0</td>\n",
       "      <td>1.0</td>\n",
       "      <td>2809.0</td>\n",
       "    </tr>\n",
       "  </tbody>\n",
       "</table>\n",
       "</div>"
      ],
      "text/plain": [
       "           appId        date  monthly_active_users country lang  \\\n",
       "0  com.app.33540  2024-01-01             3643110.0      br   pt   \n",
       "1  com.app.31679  2024-01-01             1349262.0      br   pt   \n",
       "2  com.app.77385  2024-01-01             1934660.0      br   pt   \n",
       "3  com.app.41189  2024-01-01            19039746.0      br   pt   \n",
       "4  com.app.71740  2024-01-01               34421.0      br   pt   \n",
       "\n",
       "   predictionLoss  newinstalls category  total_ratings  daily_ratings  \\\n",
       "0          8170.0       8068.0  FINANCE       223848.0          297.0   \n",
       "1          4287.0       2160.0  FINANCE       277813.0          132.0   \n",
       "2          4497.0       3136.0  FINANCE       197329.0          187.0   \n",
       "3         45759.0      13830.0  FINANCE      3499378.0          766.0   \n",
       "4          1463.0        100.0  FINANCE         8327.0            1.0   \n",
       "\n",
       "    reviews  daily_reviews  daily_active_users_TARGET  \n",
       "0   82172.0           46.0                   393961.0  \n",
       "1  139907.0           19.0                   157532.0  \n",
       "2   79637.0           25.0                   239768.0  \n",
       "3  952285.0          171.0                  4954347.0  \n",
       "4    4351.0            1.0                     2809.0  "
      ]
     },
     "execution_count": 137,
     "metadata": {},
     "output_type": "execute_result"
    }
   ],
   "source": [
    "df_limpo.head()"
   ]
  },
  {
   "cell_type": "code",
   "execution_count": 140,
   "id": "f5a15fd7",
   "metadata": {},
   "outputs": [],
   "source": [
    "df_limpo.to_csv('../data/dados_limpos.csv', index=False)"
   ]
  }
 ],
 "metadata": {
  "kernelspec": {
   "display_name": "venv",
   "language": "python",
   "name": "python3"
  },
  "language_info": {
   "codemirror_mode": {
    "name": "ipython",
    "version": 3
   },
   "file_extension": ".py",
   "mimetype": "text/x-python",
   "name": "python",
   "nbconvert_exporter": "python",
   "pygments_lexer": "ipython3",
   "version": "3.11.0"
  }
 },
 "nbformat": 4,
 "nbformat_minor": 5
}
